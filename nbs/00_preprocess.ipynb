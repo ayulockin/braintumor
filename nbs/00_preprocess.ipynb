{
 "cells": [
  {
   "cell_type": "code",
   "execution_count": null,
   "metadata": {},
   "outputs": [],
   "source": [
    "# default_exp preprocess"
   ]
  },
  {
   "cell_type": "markdown",
   "metadata": {},
   "source": [
    "# Preprocess\r\n",
    "\r\n",
    "> This module offers useful preprocessing functionlities."
   ]
  },
  {
   "cell_type": "code",
   "execution_count": null,
   "metadata": {},
   "outputs": [],
   "source": [
    "#hide\r\n",
    "from nbdev.showdoc import *"
   ]
  },
  {
   "cell_type": "code",
   "execution_count": null,
   "metadata": {},
   "outputs": [],
   "source": [
    "#hide\r\n",
    "# %load_ext autoreload\r\n",
    "# %autoreload 2 "
   ]
  },
  {
   "cell_type": "code",
   "execution_count": null,
   "metadata": {},
   "outputs": [],
   "source": [
    "#export\r\n",
    "import os\r\n",
    "import wandb\r\n",
    "import numpy as np\r\n",
    "import pandas as pd\r\n",
    "from pathlib import Path\r\n",
    "import matplotlib.pyplot as plt\r\n",
    "\r\n",
    "# Pydicom related imports\r\n",
    "import pydicom\r\n",
    "from pydicom.pixel_data_handlers.util import apply_voi_lut\r\n",
    "import SimpleITK as sitk\r\n"
   ]
  },
  {
   "cell_type": "code",
   "execution_count": null,
   "metadata": {},
   "outputs": [],
   "source": [
    "#export\r\n",
    "class VoxelData():\r\n",
    "    \"\"\"\r\n",
    "    MRI plane type (Axial, Coronal, and Sagittal) is not consistent among patients or MRI scans. \r\n",
    "    This class obtain normalized voxels by appropriately rotating MRI voxels.\r\n",
    "    \"\"\"\r\n",
    "    def __init__(self, reference_dir):\r\n",
    "        # Set up SITK reader\r\n",
    "        self.reader = sitk.ImageSeriesReader()\r\n",
    "        self.reader.LoadPrivateTagsOn()\r\n",
    "        \r\n",
    "        # get reference image\r\n",
    "        self.reference_image = self.get_reference_image(reference_dir)\r\n",
    "\r\n",
    "\r\n",
    "    def read_dicom(self, dicom_dir):\r\n",
    "        \"\"\"\r\n",
    "        Reads a dicom file and returns the metadata\r\n",
    "\r\n",
    "        Parameters\r\n",
    "        ----------\r\n",
    "        dicom_dir : str (path to DICOM scan)\r\n",
    "        \"\"\"\r\n",
    "        filenamesDICOM = self.reader.GetGDCMSeriesFileNames(dicom_dir)\r\n",
    "        self.reader.SetFileNames(filenamesDICOM)\r\n",
    "        file = self.reader.Execute()\r\n",
    "        return file\r\n",
    "\r\n",
    "    def resample(self, image, ref_image):\r\n",
    "        \"\"\"\r\n",
    "        Resamples the image to the same size and orientation as the reference image\r\n",
    "\r\n",
    "        Parameters\r\n",
    "        ----------\r\n",
    "        image : SimpleITK image\r\n",
    "        ref_image : Reference SimpleITK image\r\n",
    "        \"\"\"\r\n",
    "        resampler = sitk.ResampleImageFilter()\r\n",
    "        resampler.SetReferenceImage(ref_image)\r\n",
    "        resampler.SetInterpolator(sitk.sitkLinear)\r\n",
    "        \r\n",
    "        resampler.SetTransform(sitk.AffineTransform(image.GetDimension()))\r\n",
    "\r\n",
    "        resampler.SetOutputSpacing(ref_image.GetSpacing())\r\n",
    "\r\n",
    "        resampler.SetSize(ref_image.GetSize())\r\n",
    "\r\n",
    "        resampler.SetOutputDirection(ref_image.GetDirection())\r\n",
    "\r\n",
    "        resampler.SetOutputOrigin(ref_image.GetOrigin())\r\n",
    "\r\n",
    "        resampler.SetDefaultPixelValue(image.GetPixelIDValue())\r\n",
    "\r\n",
    "        resamped_image = resampler.Execute(image)\r\n",
    "        \r\n",
    "        return resamped_image\r\n",
    "\r\n",
    "    def normalize(self, data):\r\n",
    "        \"\"\"\r\n",
    "        Normalizes the data to the range [0, 1]\r\n",
    "        \r\n",
    "        Parameters\r\n",
    "        ----------\r\n",
    "        data : numpy array\r\n",
    "        \"\"\"\r\n",
    "        return (data - np.min(data)) / (np.max(data) - np.min(data))\r\n",
    "\r\n",
    "    def get_reference_image(self, reference_dir):\r\n",
    "        \"\"\"\r\n",
    "        Returns the reference SimpleITK image.\r\n",
    "\r\n",
    "        Parameters\r\n",
    "        ----------\r\n",
    "        reference_dir : str (path to reference DICOM scan)\r\n",
    "        \"\"\"\r\n",
    "        return self.read_dicom(reference_dir)\r\n",
    "\r\n",
    "    def get_voxel_data(self, dicom_dir):\r\n",
    "        \"\"\"\r\n",
    "        Returns the voxel data.\r\n",
    "\r\n",
    "        Parameters\r\n",
    "        ----------\r\n",
    "        dicom_dir : str (path to DICOM scan)\r\n",
    "        \"\"\"\r\n",
    "        # Read DICOM\r\n",
    "        dicom_image = self.read_dicom(dicom_dir)\r\n",
    "\r\n",
    "        # Resample to the same size and orientation as the reference image\r\n",
    "        resampled_image = self.resample(dicom_image, self.reference_image)\r\n",
    "\r\n",
    "        # Normalize to the range [0, 1]\r\n",
    "        normalized_image = self.normalize(sitk.GetArrayFromImage(resampled_image))\r\n",
    "\r\n",
    "        return normalized_image"
   ]
  },
  {
   "cell_type": "code",
   "execution_count": null,
   "metadata": {},
   "outputs": [],
   "source": [
    "TRAIN_PATH = Path(os.getcwd()).parents[0] / 'data/sample/train/'\r\n",
    "folder = os.listdir(TRAIN_PATH)[0]\r\n",
    "\r\n",
    "connect_voxel = VoxelData(os.path.join(TRAIN_PATH, folder, 'T1w'))\r\n",
    "flair = connect_voxel.get_voxel_data(os.path.join(TRAIN_PATH, folder, 'FLAIR'))\r\n",
    "t1wce = connect_voxel.get_voxel_data(os.path.join(TRAIN_PATH, folder, 'T1wCE'))\r\n",
    "t2 = connect_voxel.get_voxel_data(os.path.join(TRAIN_PATH, folder, 'T2w'))\r\n"
   ]
  },
  {
   "cell_type": "code",
   "execution_count": null,
   "metadata": {},
   "outputs": [
    {
     "name": "stdout",
     "output_type": "stream",
     "text": [
      "Converted 00_data.ipynb.\n",
      "Converted 00_preprocess.ipynb.\n",
      "Converted 00_utils.ipynb.\n",
      "Converted index.ipynb.\n"
     ]
    }
   ],
   "source": [
    "#hide\r\n",
    "from nbdev.export import notebook2script; notebook2script()"
   ]
  }
 ],
 "metadata": {
  "kernelspec": {
   "display_name": "Python 3.7.3 64-bit ('tf-gpu': conda)",
   "name": "python3"
  }
 },
 "nbformat": 4,
 "nbformat_minor": 2
}
