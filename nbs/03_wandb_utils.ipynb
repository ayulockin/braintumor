{
 "cells": [
  {
   "cell_type": "code",
   "execution_count": null,
   "id": "57a49cd4",
   "metadata": {},
   "outputs": [],
   "source": [
    "# default_exp wandb_utils"
   ]
  },
  {
   "cell_type": "markdown",
   "id": "4e5e5927",
   "metadata": {},
   "source": [
    "# Weights & Biases Utils\n",
    "\n",
    "> This module offers useful utilities to Weights & Biases logging. See the [guides here](https://docs.wandb.ai/guides) for a full introduction to W&B"
   ]
  },
  {
   "cell_type": "code",
   "execution_count": null,
   "id": "478ec1f5",
   "metadata": {},
   "outputs": [],
   "source": [
    "#hide\n",
    "#skip\n",
    "from nbverbose.showdoc import *"
   ]
  },
  {
   "cell_type": "code",
   "execution_count": null,
   "id": "486e356a",
   "metadata": {},
   "outputs": [],
   "source": [
    "#export\r\n",
    "import os\r\n",
    "import wandb\r\n",
    "import pandas as pd"
   ]
  },
  {
   "cell_type": "markdown",
   "id": "a9a8087c",
   "metadata": {},
   "source": [
    "## Tables Utils\n",
    "\n",
    "Utility functions to log to W&B Tables. For a full guide to data visualisation using W&B Tables, see the [Tables docs here](https://docs.wandb.ai/guides/data-vis)"
   ]
  },
  {
   "cell_type": "code",
   "execution_count": null,
   "id": "0eac9669",
   "metadata": {},
   "outputs": [],
   "source": [
    "#export\r\n",
    "def log_df_as_tables(\r\n",
    "    df,  # Dataframe to be logged\r\n",
    "    table_name:str=\"my_table\"  # Name to give the W&B Table\r\n",
    "):\r\n",
    "    \"Logs a dataframe as a W&B Table to W&B, `wandb.init()` must be called before using this function.\"\r\n",
    "    \r\n",
    "    # create W&B tables object\r\n",
    "    tables = wandb.Table(dataframe=df)\r\n",
    "    wandb.log({f\"{table_name}\": tables})"
   ]
  },
  {
   "cell_type": "code",
   "execution_count": null,
   "id": "fbf90256",
   "metadata": {},
   "outputs": [],
   "source": [
    "#hide\r\n",
    "# df = pd.read_csv('../data/train_labels.csv')\r\n",
    "\r\n",
    "# run = wandb.init(entity='wandb_fc', project='rsna-miccai-brain', group='data', job_type='sample_data')\r\n",
    "# log_df_as_tables(run, df, \"my-df\")\r\n",
    "# wandb.finish()"
   ]
  },
  {
   "cell_type": "markdown",
   "id": "085916b8",
   "metadata": {},
   "source": [
    "## Artifacts Utils\n",
    "\n",
    "Utility functions for Weights & Biases Artifacts, see the [W&B Artifacts docs](https://docs.wandb.ai/guides/artifacts) here for a full guide to Artifacts"
   ]
  },
  {
   "cell_type": "code",
   "execution_count": null,
   "id": "d23891f8",
   "metadata": {},
   "outputs": [],
   "source": [
    "#export\r\n",
    "def log_to_artifacts(\r\n",
    "    path_to_data, # Path to file or directory to be logged\r\n",
    "    artifact_name,  # Name of the W&B Artifact\r\n",
    "    artifact_type:str='dataset',  # Type of artifact, defined by user, e.g. \"model\", \"raw-dataset\" etc (default: dataset)\r\n",
    "    log:str='file'  # Type of data being logged, can be \"file\" or \"dir\"\r\n",
    "):\r\n",
    "    \"Logs a file or directory as an artifact, `wandb.init()` must be called before using this function.\"\r\n",
    "    \r\n",
    "    artifact = wandb.Artifact(artifact_name, type=artifact_type)\r\n",
    "    \r\n",
    "    if log == 'file':\r\n",
    "        artifact.add_file(path_to_data)\r\n",
    "    elif log == 'dir':\r\n",
    "        artifact.add_dir(path_to_data)\r\n",
    "\r\n",
    "    wandb.log_artifact(artifact)"
   ]
  },
  {
   "cell_type": "code",
   "execution_count": null,
   "id": "e4c39316",
   "metadata": {},
   "outputs": [],
   "source": [
    "#hide\r\n",
    "# run = wandb.init(entity='wandb_fc', project='rsna-miccai-brain', group='data', job_type='sample_data')\r\n",
    "# log_to_artifacts(path_to_data='../data/smaller_sample/', \r\n",
    "#                     artifact_name='sample_data', \r\n",
    "#                     artifact_type='dataset',\r\n",
    "#                     log='dir')\r\n",
    "# wandb.finish()"
   ]
  },
  {
   "cell_type": "code",
   "execution_count": null,
   "id": "bf1fc4c2",
   "metadata": {},
   "outputs": [
    {
     "name": "stdout",
     "output_type": "stream",
     "text": [
      "Converted 00_data.ipynb.\n",
      "Converted 01_preprocess.ipynb.\n",
      "Converted 02_utils.ipynb.\n",
      "Converted 03_wandb_utils.ipynb.\n",
      "Converted 04_wandb_viz.ipynb.\n",
      "Converted index.ipynb.\n"
     ]
    }
   ],
   "source": [
    "#hide\r\n",
    "from nbdev.export import notebook2script; notebook2script()"
   ]
  }
 ],
 "metadata": {
  "kernelspec": {
   "display_name": "Python 3",
   "language": "python",
   "name": "python3"
  }
 },
 "nbformat": 4,
 "nbformat_minor": 5
}
