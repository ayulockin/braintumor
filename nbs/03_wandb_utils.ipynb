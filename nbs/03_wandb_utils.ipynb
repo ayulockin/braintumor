{
 "cells": [
  {
   "cell_type": "code",
   "execution_count": null,
   "id": "abe432b4-1063-4f04-8d4b-44dd86406764",
   "metadata": {},
   "outputs": [],
   "source": [
    "# default_exp wandb_utils"
   ]
  },
  {
   "cell_type": "markdown",
   "id": "c12c76b1-333f-48cb-87b2-88083bcdc535",
   "metadata": {},
   "source": [
    "# Weights & Biases Utils\n",
    "\n",
    "> This module offers useful utilities."
   ]
  },
  {
   "cell_type": "code",
   "execution_count": null,
   "id": "b51faac8-1d34-47a1-83c1-5856c013081f",
   "metadata": {},
   "outputs": [],
   "source": [
    "#hide\n",
    "from nbdev.showdoc import *"
   ]
  },
  {
   "cell_type": "code",
   "execution_count": null,
   "id": "f25df176-5667-47b2-8602-73aa292ac10c",
   "metadata": {},
   "outputs": [
    {
     "name": "stdout",
     "output_type": "stream",
     "text": [
      "The autoreload extension is already loaded. To reload it, use:\n",
      "  %reload_ext autoreload\n"
     ]
    }
   ],
   "source": [
    "#hide \n",
    "%load_ext autoreload\n",
    "%autoreload 2"
   ]
  },
  {
   "cell_type": "code",
   "execution_count": null,
   "id": "67cf05b0-3e05-4eb0-b97a-ba022321b967",
   "metadata": {},
   "outputs": [],
   "source": [
    "#export\n",
    "import os\n",
    "import wandb"
   ]
  },
  {
   "cell_type": "markdown",
   "id": "72d0eb5a-8134-4be1-931c-acf573d4b657",
   "metadata": {},
   "source": [
    "## Artifacts Utils"
   ]
  },
  {
   "cell_type": "code",
   "execution_count": null,
   "id": "c6b6f8b9-6c1f-4169-b9b0-241a7a81b7b7",
   "metadata": {},
   "outputs": [],
   "source": [
    "#export\n",
    "def log_datadir_as_artifact(wandb_run, path_to_dir, artifact_name, artifact_type='dataset'):\n",
    "    \"\"\"\n",
    "    Logs a data directory as an artifact in wandb.\n",
    "    wandb_run: wandb.Run object\n",
    "    path_to_dir: path to the data directory\n",
    "    artifact_name: name of the artifact\n",
    "    artifact_type: type of the artifact\n",
    "    \"\"\"\n",
    "    \n",
    "    artifact = wandb.Artifact(artifact_name, type=artifact_type)\n",
    "    artifact.add_dir(path_to_dir)\n",
    "    wandb_run.log_artifact(artifact)"
   ]
  },
  {
   "cell_type": "code",
   "execution_count": null,
   "id": "1aa18977-1a70-480f-8765-69b296cc0470",
   "metadata": {},
   "outputs": [],
   "source": [
    "#hide\n",
    "# run = wandb.init(entity='wandb_fc', project='rsna-miccai-brain', group='data', job_type='sample_data')\n",
    "# log_datadir_as_artifact(run, '../data/smaller_sample/', 'sample_data', artifact_type='dataset')\n",
    "# wandb.finish()"
   ]
  },
  {
   "cell_type": "code",
   "execution_count": null,
   "id": "aa837cdf-8ef4-46b4-bfb3-c315641ba8bf",
   "metadata": {},
   "outputs": [],
   "source": []
  },
  {
   "cell_type": "code",
   "execution_count": null,
   "id": "aa2c9667-b8de-41b5-bd47-62e79b9d1cdc",
   "metadata": {},
   "outputs": [
    {
     "name": "stdout",
     "output_type": "stream",
     "text": [
      "Converted 00_data.ipynb.\n",
      "Converted 01_preprocess.ipynb.\n",
      "Converted 02_utils.ipynb.\n",
      "Converted 03_wandb_utils.ipynb.\n",
      "Converted index.ipynb.\n"
     ]
    }
   ],
   "source": [
    "#hide\n",
    "from nbdev.export import notebook2script; notebook2script()"
   ]
  },
  {
   "cell_type": "code",
   "execution_count": null,
   "id": "4ffd5aa7-7c17-42c4-8ad0-bae730211162",
   "metadata": {},
   "outputs": [],
   "source": []
  }
 ],
 "metadata": {
  "kernelspec": {
   "display_name": "Python 3",
   "language": "python",
   "name": "python3"
  }
 },
 "nbformat": 4,
 "nbformat_minor": 5
}
