{
 "cells": [
  {
   "cell_type": "code",
   "execution_count": null,
   "metadata": {},
   "outputs": [],
   "source": [
    "# default_exp wandb_utils"
   ]
  },
  {
   "cell_type": "markdown",
   "metadata": {},
   "source": [
    "# Weights & Biases Utils\n",
    "\n",
    "> This module offers useful utilities."
   ]
  },
  {
   "cell_type": "code",
   "execution_count": null,
   "metadata": {},
   "outputs": [],
   "source": [
    "#hide\r\n",
    "from nbdev.showdoc import *"
   ]
  },
  {
   "cell_type": "code",
   "execution_count": null,
   "metadata": {},
   "outputs": [],
   "source": [
    "#export\r\n",
    "import os\r\n",
    "import wandb\r\n",
    "import pandas as pd"
   ]
  },
  {
   "cell_type": "markdown",
   "metadata": {},
   "source": [
    "## Artifacts Utils"
   ]
  },
  {
   "cell_type": "code",
   "execution_count": null,
   "metadata": {},
   "outputs": [],
   "source": [
    "#export\r\n",
    "def log_data_as_artifact(wandb_run, path_to_data, artifact_name, artifact_type='dataset', log='file'):\r\n",
    "    \"\"\"\r\n",
    "    Logs a file or directory as an artifact.\r\n",
    "\r\n",
    "    Params:\r\n",
    "        wandb_run: wandb.init() run\r\n",
    "        path_to_data: path to file or directory to be logged\r\n",
    "            - 'file'\r\n",
    "            - 'dir'\r\n",
    "        artifact_name: name of artifact\r\n",
    "        artifact_type: type of artifact (default: dataset)\r\n",
    "        log: log type (default: file)\r\n",
    "    \"\"\"\r\n",
    "\r\n",
    "    artifact = wandb.Artifact(artifact_name, type=artifact_type)\r\n",
    "    \r\n",
    "    if log == 'file':\r\n",
    "        artifact.add_file(path_to_data)\r\n",
    "    elif log == 'dir':\r\n",
    "        artifact.add_dir(path_to_data)\r\n",
    "\r\n",
    "    wandb_run.log_artifact(artifact)"
   ]
  },
  {
   "cell_type": "code",
   "execution_count": null,
   "metadata": {},
   "outputs": [],
   "source": [
    "#hide\r\n",
    "# run = wandb.init(entity='wandb_fc', project='rsna-miccai-brain', group='data', job_type='sample_data')\r\n",
    "# log_data_as_artifact(run, path_to_data='../data/smaller_sample/', \r\n",
    "#                     artifact_name='sample_data', \r\n",
    "#                     artifact_type='dataset',\r\n",
    "#                     log='dir')\r\n",
    "# wandb.finish()"
   ]
  },
  {
   "cell_type": "code",
   "execution_count": null,
   "metadata": {},
   "outputs": [],
   "source": [
    "#export\r\n",
    "def log_model_as_artifact(wandb_run, path_to_model, artifact_name, artifact_type='model', log='file'):\r\n",
    "    \"\"\"\r\n",
    "    Logs a file or directory as an artifact.\r\n",
    "\r\n",
    "    Params:\r\n",
    "        wandb_run: wandb.init() run\r\n",
    "        path_to_model: path to file or directory to be logged\r\n",
    "            - 'file'\r\n",
    "            - 'dir'\r\n",
    "        artifact_name: name of artifact\r\n",
    "        artifact_type: type of artifact (default: model)\r\n",
    "        log: log type (default: file)\r\n",
    "    \"\"\"\r\n",
    "\r\n",
    "    artifact = wandb.Artifact(artifact_name, type=artifact_type)\r\n",
    "    \r\n",
    "    if log == 'file':\r\n",
    "        artifact.add_file(path_to_model)\r\n",
    "    elif log == 'dir':\r\n",
    "        artifact.add_dir(path_to_model)\r\n",
    "\r\n",
    "    wandb_run.log_artifact(artifact)"
   ]
  },
  {
   "cell_type": "code",
   "execution_count": null,
   "metadata": {},
   "outputs": [],
   "source": [
    "#export\r\n",
    "def log_df_as_tables(wandb_run, df, table_name=\"dataframe\"):\r\n",
    "    \"\"\"\r\n",
    "    Logs a dataframe as a table.\r\n",
    "\r\n",
    "    Params:\r\n",
    "        wandb_run: wandb.init() run\r\n",
    "        df: dataframe to be logged\r\n",
    "        table_name: name of table\r\n",
    "    \"\"\"\r\n",
    "    # create W&B tables object\r\n",
    "    tables = wandb.Table(dataframe=df)\r\n",
    "    wandb.log({f\"{table_name}\": tables})"
   ]
  },
  {
   "cell_type": "code",
   "execution_count": null,
   "metadata": {},
   "outputs": [],
   "source": [
    "#hide\r\n",
    "# df = pd.read_csv('../data/train_labels.csv')\r\n",
    "\r\n",
    "# run = wandb.init(entity='wandb_fc', project='rsna-miccai-brain', group='data', job_type='sample_data')\r\n",
    "# log_df_as_tables(run, df, \"my-df\")\r\n",
    "# wandb.finish()"
   ]
  },
  {
   "cell_type": "code",
   "execution_count": null,
   "metadata": {},
   "outputs": [
    {
     "name": "stdout",
     "output_type": "stream",
     "text": [
      "Converted 00_data.ipynb.\n",
      "Converted 01_preprocess.ipynb.\n",
      "Converted 02_utils.ipynb.\n",
      "Converted 03_wandb_utils.ipynb.\n",
      "Converted 04_wandb_viz.ipynb.\n",
      "Converted index.ipynb.\n"
     ]
    }
   ],
   "source": [
    "#hide\r\n",
    "from nbdev.export import notebook2script; notebook2script()"
   ]
  }
 ],
 "metadata": {
  "kernelspec": {
   "display_name": "Python 3.7.3 64-bit ('tf-gpu': conda)",
   "name": "python3"
  }
 },
 "nbformat": 4,
 "nbformat_minor": 5
}
