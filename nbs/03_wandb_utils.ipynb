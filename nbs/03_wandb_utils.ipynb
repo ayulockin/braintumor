{
 "cells": [
  {
   "cell_type": "code",
   "execution_count": null,
   "id": "6c96a2d1",
   "metadata": {},
   "outputs": [],
   "source": [
    "# default_exp wandb_utils"
   ]
  },
  {
   "cell_type": "markdown",
   "id": "f5401d2b",
   "metadata": {},
   "source": [
    "# Weights & Biases Utils\n",
    "\n",
    "> This module offers useful utilities to Weights & Biases logging. See the [guides here](https://docs.wandb.ai/guides) for a full introduction to W&B"
   ]
  },
  {
   "cell_type": "code",
   "execution_count": null,
   "id": "6d9e4166-517e-40fd-812f-8cb46261f3e5",
   "metadata": {},
   "outputs": [],
   "source": [
    "#hide\n",
    "from nbverbose.showdoc import *"
   ]
  },
  {
   "cell_type": "code",
   "execution_count": null,
   "id": "59591e53",
   "metadata": {},
   "outputs": [],
   "source": [
    "#export\r\n",
    "import os\r\n",
    "import wandb\r\n",
    "import pandas as pd"
   ]
  },
  {
   "cell_type": "markdown",
   "id": "0cc70589-7bb7-4541-8c7e-4bd7e87d0ae6",
   "metadata": {},
   "source": [
    "## Tables Utils\n",
    "\n",
    "Utility functions to log to W&B Tables. For a full guide to data visualisation using W&B Tables, see the [Tables docs here](https://docs.wandb.ai/guides/data-vis)"
   ]
  },
  {
   "cell_type": "code",
   "execution_count": null,
   "id": "38249e7e-2028-4003-b3fa-05d4d4277d75",
   "metadata": {},
   "outputs": [],
   "source": [
    "#export\n",
    "def log_df_as_tables(\n",
    "    df,  # Dataframe to be logged\n",
    "    table_name:str=\"my_table\"  # Name to give the W&B Table\n",
    "):\n",
    "    \"Logs a dataframe as a W&B Table to W&B, `wandb.init()` must be called before using this function.\"\n",
    "    \n",
    "    # create W&B tables object\n",
    "    tables = wandb.Table(dataframe=df)\n",
    "    wandb.log({f\"{table_name}\": tables})"
   ]
  },
  {
   "cell_type": "code",
   "execution_count": null,
   "id": "1f7babaa-0938-490d-8656-03e2357dff77",
   "metadata": {},
   "outputs": [],
   "source": [
    "#hide\r\n",
    "# df = pd.read_csv('../data/train_labels.csv')\r\n",
    "\r\n",
    "# run = wandb.init(entity='wandb_fc', project='rsna-miccai-brain', group='data', job_type='sample_data')\r\n",
    "# log_df_as_tables(run, df, \"my-df\")\r\n",
    "# wandb.finish()"
   ]
  },
  {
   "cell_type": "markdown",
   "id": "75c6aea0",
   "metadata": {},
   "source": [
    "## Artifacts Utils\n",
    "\n",
    "Utility functions for Weights & Biases Artifacts, see the [W&B Artifacts docs](https://docs.wandb.ai/guides/artifacts) here for a full guide to Artifacts"
   ]
  },
  {
   "cell_type": "code",
   "execution_count": null,
   "id": "5c5450fa-2be9-4c46-b586-aac38e8c8283",
   "metadata": {},
   "outputs": [],
   "source": [
    "#export\n",
    "def log_to_artifacts(\n",
    "    path_to_data, # Path to file or directory to be logged\n",
    "    artifact_name,  # Name of the W&B Artifact\n",
    "    artifact_type:str='dataset',  # Type of artifact, defined by user, e.g. \"model\", \"raw-dataset\" etc (default: dataset)\n",
    "    log:str='file'  # Type of data being logged, can be \"file\" or \"dir\"\n",
    "):\n",
    "    \"Logs a file or directory as an artifact, `wandb.init()` must be called before using this function.\"\n",
    "    \n",
    "    artifact = wandb.Artifact(artifact_name, type=artifact_type)\n",
    "    \n",
    "    if log == 'file':\n",
    "        artifact.add_file(path_to_data)\n",
    "    elif log == 'dir':\n",
    "        artifact.add_dir(path_to_data)\n",
    "\n",
    "    wandb.log_artifact(artifact)"
   ]
  },
  {
   "cell_type": "code",
   "execution_count": null,
   "id": "ccc4506b-032a-475a-9b1c-fb4b6ecf9516",
   "metadata": {},
   "outputs": [],
   "source": [
    "#hide\n",
    "# run = wandb.init(entity='wandb_fc', project='rsna-miccai-brain', group='data', job_type='sample_data')\n",
    "# log_to_artifacts(path_to_data='../data/smaller_sample/', \n",
    "#                     artifact_name='sample_data', \n",
    "#                     artifact_type='dataset',\n",
    "#                     log='dir')\n",
    "# wandb.finish()"
   ]
  },
  {
   "cell_type": "code",
   "execution_count": null,
   "id": "6e255a23",
   "metadata": {},
   "outputs": [
    {
     "name": "stdout",
     "output_type": "stream",
     "text": [
      "Converted 00_data.ipynb.\n",
      "Converted 01_preprocess.ipynb.\n",
      "Converted 02_utils.ipynb.\n",
      "Converted 03_wandb_utils.ipynb.\n",
      "Converted 04_wandb_viz.ipynb.\n",
      "Converted index.ipynb.\n"
     ]
    }
   ],
   "source": [
    "#hide\r\n",
    "from nbdev.export import notebook2script; notebook2script()"
   ]
  }
 ],
 "metadata": {
  "kernelspec": {
   "display_name": "Python 3",
   "language": "python",
   "name": "python3"
  }
 },
 "nbformat": 4,
 "nbformat_minor": 5
}
