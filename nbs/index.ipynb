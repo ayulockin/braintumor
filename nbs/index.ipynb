{
 "cells": [
  {
   "cell_type": "markdown",
   "metadata": {},
   "source": [
    "![kaggle_wandb.png](data/images/kaggle_wandb.png)"
   ]
  },
  {
   "cell_type": "markdown",
   "metadata": {},
   "source": [
    "# Kaggle Recipes\r\n",
    "\r\n",
    "> Helpful data preprocessing, training and visualisatoin code and scripts for a range Kaggle competitions, supported by Weights & Biases. Less spaghetti code, more visualisation -> better results"
   ]
  },
  {
   "cell_type": "markdown",
   "metadata": {},
   "source": [
    "## What's New\r\n",
    "#### Aug 27, 2021\r\n",
    "- Released the library on PyPI.\r\n",
    "- Easily create voxel manipulated dataset for RSNA-MICCAI Brain Tumor Classification competition. \r\n",
    "- Extract dicom metadata. \r\n",
    "- Added utilities to log dataframe as tables and files/directory as artifacts. \r\n",
    "- Added utiities to log basic W&B charts (line, bar, and scatter)."
   ]
  },
  {
   "cell_type": "markdown",
   "metadata": {},
   "source": [
    "## Kaggle Competitions\r\n",
    "- [RSNA-MICCAI Brain Tumor Radiogenomic Classification](https://www.kaggle.com/c/rsna-miccai-brain-tumor-radiogenomic-classification)"
   ]
  },
  {
   "cell_type": "markdown",
   "metadata": {},
   "source": [
    "## Code & Scripts\r\n",
    "\r\n",
    "#### RSNA-MICCAI Brain Tumor Radiogenomic Classification\r\n",
    "- LINK TO NOTEBOOK"
   ]
  },
  {
   "cell_type": "markdown",
   "metadata": {},
   "source": [
    "## Install\n",
    "\n",
    "`pip install kagglerecipes`"
   ]
  },
  {
   "cell_type": "markdown",
   "metadata": {},
   "source": [
    "## Sample Datasets \n",
    "\n",
    "We have also logged smaller subsets of Kaggle commpeition datasets local development and fast prototyping. \n",
    "\n",
    "#### RSNA-MICCAI Brain Tumor Radiogenomic Classification\n",
    "* Download it manually from [here](https://wandb.ai/wandb_fc/rsna-miccai-brain/artifacts/dataset/sample/0c38392ee79fd5f85e97/files).\n",
    "* Or download it using this code snippet.\n",
    "  ```\n",
    "  import wandb\n",
    "  run = wandb.init()\n",
    "  artifact = run.use_artifact('wandb_fc/rsna-miccai-brain/sample:v0', type='dataset')\n",
    "  artifact_dir = artifact.download()\n",
    "  ```"
   ]
  },
  {
   "cell_type": "code",
   "execution_count": null,
   "metadata": {},
   "outputs": [
    {
     "name": "stdout",
     "output_type": "stream",
     "text": [
      "Converted 00_data.ipynb.\n",
      "Converted 01_preprocess.ipynb.\n",
      "Converted 02_utils.ipynb.\n",
      "Converted 03_wandb_utils.ipynb.\n",
      "Converted 04_wandb_viz.ipynb.\n",
      "Converted index.ipynb.\n"
     ]
    }
   ],
   "source": [
    "#hide\r\n",
    "from nbdev.export import notebook2script; notebook2script()"
   ]
  }
 ],
 "metadata": {
  "kernelspec": {
   "display_name": "Python 3.7.3 64-bit ('tf-gpu': conda)",
   "name": "python3"
  }
 },
 "nbformat": 4,
 "nbformat_minor": 4
}
