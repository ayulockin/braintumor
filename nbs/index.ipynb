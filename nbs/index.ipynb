{
 "cells": [
  {
   "cell_type": "markdown",
   "metadata": {},
   "source": [
    "![kaggle_wandb.png](https://github.com/ayulockin/kagglerecipes/blob/master/nbs/data/images/kaggle_wandb.png)"
   ]
  },
  {
   "cell_type": "markdown",
   "metadata": {},
   "source": [
    "# Kaggle Recipes\r\n",
    "\r\n",
    "> Helpful data preprocessing, training and visualisatoin code and scripts for a range Kaggle competitions, supported by Weights & Biases. Less spaghetti code, more visualisation -> better results"
   ]
  },
  {
   "cell_type": "markdown",
   "metadata": {},
   "source": [
    "## What's New\r\n",
    "\r\n",
    "#### Sept 2, 2021\r\n",
    "- Release version 0.0.3\r\n",
    "- Added support for multiprocessing to extract DICOM metadata for RSNA-MICCAI Brain Tumor Classification competition.\r\n",
    "- Bug fixes. \r\n",
    "\r\n",
    "#### Aug 27, 2021\r\n",
    "- Released the library on PyPI.\r\n",
    "- Easily create voxel manipulated dataset for RSNA-MICCAI Brain Tumor Classification competition. \r\n",
    "- Extract dicom metadata. \r\n",
    "- Added utilities to log dataframe as tables and files/directory as artifacts. \r\n",
    "- Added utiities to log basic W&B charts (line, bar, and scatter)."
   ]
  },
  {
   "cell_type": "markdown",
   "metadata": {},
   "source": [
    "## Kaggle Competitions\r\n",
    "- [RSNA-MICCAI Brain Tumor Radiogenomic Classification](https://www.kaggle.com/c/rsna-miccai-brain-tumor-radiogenomic-classification)"
   ]
  },
  {
   "cell_type": "markdown",
   "metadata": {},
   "source": [
    "## Code & Scripts\r\n",
    "\r\n",
    "#### RSNA-MICCAI Brain Tumor Radiogenomic Classification\r\n",
    "- LINK TO NOTEBOOK"
   ]
  },
  {
   "cell_type": "markdown",
   "metadata": {},
   "source": [
    "## Install\n",
    "\n",
    "`pip install kagglerecipes`"
   ]
  },
  {
   "cell_type": "markdown",
   "metadata": {},
   "source": [
    "## Sample Datasets \r\n",
    "\r\n",
    "We have also logged smaller subsets of Kaggle commpeition datasets local development and fast prototyping. \r\n",
    "\r\n",
    "#### RSNA-MICCAI Brain Tumor Radiogenomic Classification\r\n",
    "* Download it manually from [here](https://wandb.ai/wandb_fc/rsna-miccai-brain/artifacts/dataset/sample/0c38392ee79fd5f85e97/files).\r\n",
    "* Or download it using this code snippet.\r\n",
    "  ```\r\n",
    "  import wandb\r\n",
    "  run = wandb.init()\r\n",
    "  artifact = run.use_artifact('wandb_fc/rsna-miccai-brain/sample:v0', type='dataset')\r\n",
    "  artifact_dir = artifact.download()\r\n",
    "  ```"
   ]
  },
  {
   "cell_type": "markdown",
   "metadata": {},
   "source": [
    "## Credits\r\n",
    "\r\n",
    "The code in this repository is a combination of many of the Kagglers' work that they have shared publicly as Kaggle kernels.\r\n",
    "\r\n",
    "* [Connecting voxel spaces](https://www.kaggle.com/boojum/connecting-voxel-spaces) by [Michael Beregov](https://www.kaggle.com/boojum)\r\n",
    "* [Normalized Voxels: Align Planes and Crop](https://www.kaggle.com/ren4yu/normalized-voxels-align-planes-and-crop) by [yu4u](https://www.kaggle.com/ren4yu)\r\n",
    "* [DICOM to 2D Resized Axial PNGs 256x256 [x36]](https://www.kaggle.com/smoschou55/dicom-to-2d-resized-axial-pngs-256x256-x36) by [Sofia Moschou](https://www.kaggle.com/smoschou55)"
   ]
  },
  {
   "cell_type": "code",
   "execution_count": null,
   "metadata": {},
   "outputs": [
    {
     "name": "stdout",
     "output_type": "stream",
     "text": [
      "Converted 00_data.ipynb.\n",
      "Converted 01_preprocess.ipynb.\n",
      "Converted 02_utils.ipynb.\n",
      "Converted 03_wandb_utils.ipynb.\n",
      "Converted 04_wandb_viz.ipynb.\n",
      "Converted index.ipynb.\n"
     ]
    }
   ],
   "source": [
    "#hide\r\n",
    "from nbdev.export import notebook2script; notebook2script()"
   ]
  }
 ],
 "metadata": {
  "kernelspec": {
   "display_name": "Python 3.7.3 64-bit ('tf-gpu': conda)",
   "name": "python3"
  }
 },
 "nbformat": 4,
 "nbformat_minor": 4
}
