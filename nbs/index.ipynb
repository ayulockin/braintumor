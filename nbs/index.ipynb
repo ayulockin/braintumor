{
 "cells": [
  {
   "cell_type": "markdown",
   "metadata": {},
   "source": [
    "![kaggle_wandb.png](data/images/kaggle_wandb.png)"
   ]
  },
  {
   "cell_type": "markdown",
   "metadata": {},
   "source": [
    "# 🥇 Kaggle Recipes 🥇\n",
    "\n",
    "> Helpful data preprocessing, training and visualisatoin code and scripts for a range Kaggle competitions, supported by Weights & Biases. Less spaghetti code, more visualisation -> better results"
   ]
  },
  {
   "cell_type": "markdown",
   "metadata": {},
   "source": [
    "## What's New\n",
    "#### Aug 27, 2021\n",
    "- Adds X,Y,Z"
   ]
  },
  {
   "cell_type": "markdown",
   "metadata": {},
   "source": [
    "## Kaggle Competitions\n",
    "- [RSNA-MICCAI Brain Tumor Radiogenomic Classification](https://www.kaggle.com/c/rsna-miccai-brain-tumor-radiogenomic-classification)"
   ]
  },
  {
   "cell_type": "markdown",
   "metadata": {},
   "source": [
    "## Code & Scripts\n",
    "\n",
    "#### RSNA-MICCAI Brain Tumor Radiogenomic Classification\n",
    "- LINK TO NOTEBOOK"
   ]
  },
  {
   "cell_type": "markdown",
   "metadata": {},
   "source": [
    "## Install\n",
    "\n",
    "`pip install kagglerecipes`"
   ]
  },
  {
   "cell_type": "markdown",
   "metadata": {},
   "source": [
    "## Sample Datasets \n",
    "\n",
    "We have also logged smaller subsets of Kaggle commpeition datasets local development and fast prototyping. \n",
    "\n",
    "#### RSNA-MICCAI Brain Tumor Radiogenomic Classification\n",
    "* Download it manually from [here](https://wandb.ai/wandb_fc/rsna-miccai-brain/artifacts/dataset/sample/0c38392ee79fd5f85e97/files).\n",
    "* Or download it using this code snippet.\n",
    "  ```\n",
    "  import wandb\n",
    "  run = wandb.init()\n",
    "  artifact = run.use_artifact('wandb_fc/rsna-miccai-brain/sample:v0', type='dataset')\n",
    "  artifact_dir = artifact.download()\n",
    "  ```"
   ]
  },
  {
   "cell_type": "markdown",
   "metadata": {},
   "source": [
    "# Sample Dataset \r\n",
    "\r\n",
    "We are using a subset of dataset for local development and fast prototyping. \r\n",
    "\r\n",
    "* Download it manually from [here](https://wandb.ai/wandb_fc/rsna-miccai-brain/artifacts/dataset/sample/0c38392ee79fd5f85e97/files).\r\n",
    "* Or download it using this code snippet.\r\n",
    "\r\n",
    "  ```\r\n",
    "  import wandb\r\n",
    "  run = wandb.init()\r\n",
    "  artifact = run.use_artifact('wandb_fc/rsna-miccai-brain/sample:v0', type='dataset')\r\n",
    "  artifact_dir = artifact.download()\r\n",
    "  ```"
   ]
  },
  {
   "cell_type": "code",
   "execution_count": null,
   "metadata": {},
   "outputs": [
    {
     "name": "stdout",
     "output_type": "stream",
     "text": [
      "Converted 00_data.ipynb.\n",
      "Converted 00_utils.ipynb.\n",
      "Converted index.ipynb.\n"
     ]
    }
   ],
   "source": [
    "#hide\r\n",
    "from nbdev.export import notebook2script; notebook2script()"
   ]
  },
  {
   "cell_type": "code",
   "execution_count": null,
   "metadata": {},
   "outputs": [],
   "source": []
  }
 ],
 "metadata": {
  "kernelspec": {
   "display_name": "Python 3",
   "language": "python",
   "name": "python3"
  }
 },
 "nbformat": 4,
 "nbformat_minor": 4
}
