{
 "cells": [
  {
   "cell_type": "code",
   "execution_count": null,
   "metadata": {},
   "outputs": [],
   "source": [
    "# default_exp wandb_viz"
   ]
  },
  {
   "cell_type": "markdown",
   "metadata": {},
   "source": [
    "# Weights and Biases Visualizations\r\n",
    "\r\n",
    "> This module offers useful visualizations using Weights and Biases."
   ]
  },
  {
   "cell_type": "code",
   "execution_count": null,
   "metadata": {},
   "outputs": [],
   "source": [
    "#hide\n",
    "#skip\r\n",
    "from nbverbose.showdoc import *"
   ]
  },
  {
   "cell_type": "code",
   "execution_count": null,
   "metadata": {},
   "outputs": [],
   "source": [
    "#hide \r\n",
    "# %load_ext autoreload\r\n",
    "# %autoreload 2"
   ]
  },
  {
   "cell_type": "code",
   "execution_count": null,
   "metadata": {},
   "outputs": [],
   "source": [
    "#export\r\n",
    "import os\r\n",
    "import wandb\r\n",
    "import numpy as np\r\n",
    "import pandas as pd\r\n",
    "import matplotlib.pyplot as plt"
   ]
  },
  {
   "cell_type": "markdown",
   "metadata": {},
   "source": [
    "## Plot basic charts using W&B. "
   ]
  },
  {
   "cell_type": "code",
   "execution_count": null,
   "metadata": {},
   "outputs": [],
   "source": [
    "#export\r\n",
    "def plot_basic_charts(\r\n",
    "    chart_type:str='line',  #  Choose a basic chart type to plot, 'line', 'bar', 'scatter' (default:'line')\r\n",
    "    x_data:str=None,  # x-axis data\r\n",
    "    y_data:str=None,  # y-axis data.\r\n",
    "    x_name:str=None,  # x-axis name.\r\n",
    "    y_name:str=None,  # y-axis name.\r\n",
    "    chart_title:str=None,  # Chart title.\r\n",
    "    wandb_chart_name:str='basic-chart'  # Chart name.\r\n",
    "):\r\n",
    "\r\n",
    "    '''\r\n",
    "    Plot basic W&B charts.\r\n",
    "    \r\n",
    "    \r\n",
    "    #### Examples\r\n",
    "    --------\r\n",
    "    **Plot a simple line chart**\r\n",
    "    plot_basic_charts(chart_type='line', x_data=[1,2,3,4,5], y_data=[1,2,3,4,5], x_name=\"x\", y_name=\"y\", chart_title=\"Simple line chart\")\r\n",
    "    \r\n",
    "    **Plot a simple bar chart**\r\n",
    "    plot_basic_charts(chart_type='bar', x_data=['a','b','c','d','e'], y_data=[1,2,3,4,5], x_name=\"x\", y_name=\"y\", chart_title=\"Simple bar chart\")\r\n",
    "    \r\n",
    "    Note: When plotting a bar chart, x_data is the labels while y_data is the values.\r\n",
    "    \r\n",
    "    **Plot a simple scatter chart**\r\n",
    "    plot_basic_charts(chart_type='scatter', x_data=[1,2,3,4,5], y_data=[1,2,3,4,5], x_name=\"x\", y_name=\"y\", chart_title=\"Simple scatter chart\")\r\n",
    "    '''\r\n",
    "    \r\n",
    "    data = [[x, y] for (x, y) in zip(x_data, y_data)]\r\n",
    "    table = wandb.Table(data=data, columns = [x_name, y_name])\r\n",
    "    \r\n",
    "    if chart_type == 'line':\r\n",
    "        wandb.log({f\"{wandb_chart_name}\" : wandb.plot.line(table, x_name, y_name, title=chart_title)})\r\n",
    "    elif chart_type == 'bar':\r\n",
    "        wandb.log({f\"{wandb_chart_name}\" : wandb.plot.bar(table, x_name, y_name, title=chart_title)})\r\n",
    "    elif chart_type == 'scatter':\r\n",
    "        wandb.log({f\"{wandb_chart_name}\" : wandb.plot.scatter(table, x_name, y_name, title=chart_title)})"
   ]
  },
  {
   "cell_type": "code",
   "execution_count": null,
   "metadata": {},
   "outputs": [
    {
     "data": {
      "text/html": [
       "\n",
       "                Tracking run with wandb version 0.12.1<br/>\n",
       "                Syncing run <strong style=\"color:#cdcd00\">autumn-thunder-25</strong> to <a href=\"https://wandb.ai\" target=\"_blank\">Weights & Biases</a> <a href=\"https://docs.wandb.com/integrations/jupyter.html\" target=\"_blank\">(Documentation)</a>.<br/>\n",
       "                Project page: <a href=\"https://wandb.ai/ayush-thakur/tests\" target=\"_blank\">https://wandb.ai/ayush-thakur/tests</a><br/>\n",
       "                Run page: <a href=\"https://wandb.ai/ayush-thakur/tests/runs/3ru25vlf\" target=\"_blank\">https://wandb.ai/ayush-thakur/tests/runs/3ru25vlf</a><br/>\n",
       "                Run data is saved locally in <code>e:\\Kaggle\\BrainTumor\\kagglerecipes\\nbs\\wandb\\run-20210901_135304-3ru25vlf</code><br/><br/>\n",
       "            "
      ],
      "text/plain": [
       "<IPython.core.display.HTML object>"
      ]
     },
     "metadata": {},
     "output_type": "display_data"
    },
    {
     "data": {
      "text/html": [
       "<br/>Waiting for W&B process to finish, PID 29856<br/>Program ended successfully."
      ],
      "text/plain": [
       "<IPython.core.display.HTML object>"
      ]
     },
     "metadata": {},
     "output_type": "display_data"
    },
    {
     "data": {
      "application/vnd.jupyter.widget-view+json": {
       "model_id": "abc384e511f14adcbf768021f2162e82",
       "version_major": 2,
       "version_minor": 0
      },
      "text/plain": [
       "VBox(children=(Label(value=' 0.00MB of 0.00MB uploaded (0.00MB deduped)\\r'), FloatProgress(value=1.0, max=1.0)…"
      ]
     },
     "metadata": {},
     "output_type": "display_data"
    },
    {
     "data": {
      "text/html": [
       "Find user logs for this run at: <code>e:\\Kaggle\\BrainTumor\\kagglerecipes\\nbs\\wandb\\run-20210901_135304-3ru25vlf\\logs\\debug.log</code>"
      ],
      "text/plain": [
       "<IPython.core.display.HTML object>"
      ]
     },
     "metadata": {},
     "output_type": "display_data"
    },
    {
     "data": {
      "text/html": [
       "Find internal logs for this run at: <code>e:\\Kaggle\\BrainTumor\\kagglerecipes\\nbs\\wandb\\run-20210901_135304-3ru25vlf\\logs\\debug-internal.log</code>"
      ],
      "text/plain": [
       "<IPython.core.display.HTML object>"
      ]
     },
     "metadata": {},
     "output_type": "display_data"
    },
    {
     "data": {
      "text/html": [
       "<h3>Run summary:</h3><br/><style>\n",
       "    table.wandb td:nth-child(1) { padding: 0 10px; text-align: right }\n",
       "    </style><table class=\"wandb\">\n",
       "<tr><td>_runtime</td><td>9</td></tr><tr><td>_timestamp</td><td>1630484593</td></tr><tr><td>_step</td><td>0</td></tr></table>"
      ],
      "text/plain": [
       "<IPython.core.display.HTML object>"
      ]
     },
     "metadata": {},
     "output_type": "display_data"
    },
    {
     "data": {
      "text/html": [
       "<h3>Run history:</h3><br/><style>\n",
       "    table.wandb td:nth-child(1) { padding: 0 10px; text-align: right }\n",
       "    </style><table class=\"wandb\">\n",
       "<tr><td>_runtime</td><td>▁</td></tr><tr><td>_timestamp</td><td>▁</td></tr><tr><td>_step</td><td>▁</td></tr></table><br/>"
      ],
      "text/plain": [
       "<IPython.core.display.HTML object>"
      ]
     },
     "metadata": {},
     "output_type": "display_data"
    },
    {
     "data": {
      "text/html": [
       "Synced 5 W&B file(s), 1 media file(s), 1 artifact file(s) and 0 other file(s)"
      ],
      "text/plain": [
       "<IPython.core.display.HTML object>"
      ]
     },
     "metadata": {},
     "output_type": "display_data"
    },
    {
     "data": {
      "text/html": [
       "\n",
       "                    <br/>Synced <strong style=\"color:#cdcd00\">autumn-thunder-25</strong>: <a href=\"https://wandb.ai/ayush-thakur/tests/runs/3ru25vlf\" target=\"_blank\">https://wandb.ai/ayush-thakur/tests/runs/3ru25vlf</a><br/>\n",
       "                "
      ],
      "text/plain": [
       "<IPython.core.display.HTML object>"
      ]
     },
     "metadata": {},
     "output_type": "display_data"
    }
   ],
   "source": [
    "# x_values = ['a', 'b', 'c', 'd', 'e']\r\n",
    "# y_values = [1,2,3,4,5]\r\n",
    "\r\n",
    "# run = wandb.init(entity='ayush-thakur', project='tests')\r\n",
    "# plot_basic_charts(chart_type='bar', x_data=x_values, y_data=y_values, x_name=\"x\", y_name=\"y\", chart_title=\"Simple scatter chart\")\r\n",
    "# run.finish()"
   ]
  },
  {
   "cell_type": "markdown",
   "metadata": {},
   "source": [
    "## Log Images to W&B"
   ]
  },
  {
   "cell_type": "code",
   "execution_count": null,
   "metadata": {},
   "outputs": [],
   "source": [
    "def log_images(\r\n",
    "    images:list, # List of image array/PIL Images or image files to log.\r\n",
    "    log_as_sequence:bool=False,):\r\n",
    "    '''\r\n",
    "    Log images to wandb. You can pass in list of images as ndarray, PIL Image, or filepath.\r\n",
    "    \r\n",
    "    #### Examples\r\n",
    "    --------\r\n",
    "    **Log images as sequence**\r\n",
    "    log_images(images=[\"image1.png\", \"image2.png\"], log_as_sequence=True)\r\n",
    "    log_images(images=[image1, image2], log_as_sequence=True)\r\n",
    "\r\n",
    "    \r\n",
    "    **Log images as grid**\r\n",
    "    log_images(images=[\"image1.png\", \"image2.png\", \"image3.png\"], log_as_sequence=False)\r\n",
    "    log_images(images=[image1.png, image2.png, image3], log_as_sequence=False)\r\n",
    "    '''\r\n",
    "\r\n",
    "    if log_as_sequence: # The images are logged with a *slider*. Ideal for visualizing sequences.\r\n",
    "        for image in images:\r\n",
    "            wandb.log({\"image\": wandb.Image(image)})\r\n",
    "    else: # The images are logged as grid. Ideal for visualizing single images.\r\n",
    "        wandb.log({\"image\" : [wandb.Image(image) for image in images]})\r\n"
   ]
  },
  {
   "cell_type": "code",
   "execution_count": null,
   "metadata": {},
   "outputs": [
    {
     "name": "stderr",
     "output_type": "stream",
     "text": [
      "Failed to detect the name of this notebook, you can set it manually with the WANDB_NOTEBOOK_NAME environment variable to enable code saving.\n",
      "wandb: Currently logged in as: ayush-thakur (use `wandb login --relogin` to force relogin)\n"
     ]
    },
    {
     "data": {
      "text/html": [
       "\n",
       "                Tracking run with wandb version 0.12.1<br/>\n",
       "                Syncing run <strong style=\"color:#cdcd00\">youthful-cherry-24</strong> to <a href=\"https://wandb.ai\" target=\"_blank\">Weights & Biases</a> <a href=\"https://docs.wandb.com/integrations/jupyter.html\" target=\"_blank\">(Documentation)</a>.<br/>\n",
       "                Project page: <a href=\"https://wandb.ai/ayush-thakur/tests\" target=\"_blank\">https://wandb.ai/ayush-thakur/tests</a><br/>\n",
       "                Run page: <a href=\"https://wandb.ai/ayush-thakur/tests/runs/282awzm0\" target=\"_blank\">https://wandb.ai/ayush-thakur/tests/runs/282awzm0</a><br/>\n",
       "                Run data is saved locally in <code>e:\\Kaggle\\BrainTumor\\kagglerecipes\\nbs\\wandb\\run-20210901_134116-282awzm0</code><br/><br/>\n",
       "            "
      ],
      "text/plain": [
       "<IPython.core.display.HTML object>"
      ]
     },
     "metadata": {},
     "output_type": "display_data"
    },
    {
     "name": "stderr",
     "output_type": "stream",
     "text": [
      "WARNING:root:Images sizes do not match. This will causes images to be display incorrectly in the UI.\n"
     ]
    },
    {
     "data": {
      "text/html": [
       "<br/>Waiting for W&B process to finish, PID 15876<br/>Program ended successfully."
      ],
      "text/plain": [
       "<IPython.core.display.HTML object>"
      ]
     },
     "metadata": {},
     "output_type": "display_data"
    },
    {
     "data": {
      "application/vnd.jupyter.widget-view+json": {
       "model_id": "8887d4c75c1c4532a04c40a282766947",
       "version_major": 2,
       "version_minor": 0
      },
      "text/plain": [
       "VBox(children=(Label(value=' 0.00MB of 0.00MB uploaded (0.00MB deduped)\\r'), FloatProgress(value=1.0, max=1.0)…"
      ]
     },
     "metadata": {},
     "output_type": "display_data"
    },
    {
     "data": {
      "text/html": [
       "Find user logs for this run at: <code>e:\\Kaggle\\BrainTumor\\kagglerecipes\\nbs\\wandb\\run-20210901_134116-282awzm0\\logs\\debug.log</code>"
      ],
      "text/plain": [
       "<IPython.core.display.HTML object>"
      ]
     },
     "metadata": {},
     "output_type": "display_data"
    },
    {
     "data": {
      "text/html": [
       "Find internal logs for this run at: <code>e:\\Kaggle\\BrainTumor\\kagglerecipes\\nbs\\wandb\\run-20210901_134116-282awzm0\\logs\\debug-internal.log</code>"
      ],
      "text/plain": [
       "<IPython.core.display.HTML object>"
      ]
     },
     "metadata": {},
     "output_type": "display_data"
    },
    {
     "data": {
      "text/html": [
       "<h3>Run summary:</h3><br/><style>\n",
       "    table.wandb td:nth-child(1) { padding: 0 10px; text-align: right }\n",
       "    </style><table class=\"wandb\">\n",
       "<tr><td>_runtime</td><td>9</td></tr><tr><td>_timestamp</td><td>1630483885</td></tr><tr><td>_step</td><td>0</td></tr></table>"
      ],
      "text/plain": [
       "<IPython.core.display.HTML object>"
      ]
     },
     "metadata": {},
     "output_type": "display_data"
    },
    {
     "data": {
      "text/html": [
       "<h3>Run history:</h3><br/><style>\n",
       "    table.wandb td:nth-child(1) { padding: 0 10px; text-align: right }\n",
       "    </style><table class=\"wandb\">\n",
       "<tr><td>_runtime</td><td>▁</td></tr><tr><td>_timestamp</td><td>▁</td></tr><tr><td>_step</td><td>▁</td></tr></table><br/>"
      ],
      "text/plain": [
       "<IPython.core.display.HTML object>"
      ]
     },
     "metadata": {},
     "output_type": "display_data"
    },
    {
     "data": {
      "text/html": [
       "Synced 6 W&B file(s), 2 media file(s), 0 artifact file(s) and 0 other file(s)"
      ],
      "text/plain": [
       "<IPython.core.display.HTML object>"
      ]
     },
     "metadata": {},
     "output_type": "display_data"
    },
    {
     "data": {
      "text/html": [
       "\n",
       "                    <br/>Synced <strong style=\"color:#cdcd00\">youthful-cherry-24</strong>: <a href=\"https://wandb.ai/ayush-thakur/tests/runs/282awzm0\" target=\"_blank\">https://wandb.ai/ayush-thakur/tests/runs/282awzm0</a><br/>\n",
       "                "
      ],
      "text/plain": [
       "<IPython.core.display.HTML object>"
      ]
     },
     "metadata": {},
     "output_type": "display_data"
    }
   ],
   "source": [
    "# run = wandb.init(entity='ayush-thakur', project='tests')\r\n",
    "# log_images(images=[\"data/images/blackhole.jpg\", \"data/images/moon.jpg\"])\r\n",
    "# run.finish()"
   ]
  },
  {
   "cell_type": "code",
   "execution_count": null,
   "metadata": {},
   "outputs": [
    {
     "name": "stdout",
     "output_type": "stream",
     "text": [
      "Converted 00_data.ipynb.\n",
      "Converted 01_preprocess.ipynb.\n",
      "Converted 02_utils.ipynb.\n",
      "Converted 03_wandb_utils.ipynb.\n",
      "Converted index.ipynb.\n"
     ]
    }
   ],
   "source": [
    "#hide\r\n",
    "from nbdev.export import notebook2script; notebook2script()"
   ]
  }
 ],
 "metadata": {
  "kernelspec": {
   "display_name": "Python 3",
   "language": "python",
   "name": "python3"
  }
 },
 "nbformat": 4,
 "nbformat_minor": 4
}
