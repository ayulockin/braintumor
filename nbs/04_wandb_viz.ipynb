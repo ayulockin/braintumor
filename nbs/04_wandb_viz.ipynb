{
 "cells": [
  {
   "cell_type": "code",
   "execution_count": null,
   "metadata": {},
   "outputs": [],
   "source": [
    "# default_exp wandb_viz"
   ]
  },
  {
   "cell_type": "markdown",
   "metadata": {},
   "source": [
    "# Weights and Biases Visualizations\r\n",
    "\r\n",
    "> This module offers useful visualizations using Weights and Biases."
   ]
  },
  {
   "cell_type": "code",
   "execution_count": null,
   "metadata": {},
   "outputs": [],
   "source": [
    "#hide\n",
    "#skip\r\n",
    "from nbverbose.showdoc import *"
   ]
  },
  {
   "cell_type": "code",
   "execution_count": null,
   "metadata": {},
   "outputs": [],
   "source": [
    "#hide \r\n",
    "# %load_ext autoreload\r\n",
    "# %autoreload 2"
   ]
  },
  {
   "cell_type": "code",
   "execution_count": null,
   "metadata": {},
   "outputs": [],
   "source": [
    "#export\n",
    "import os\n",
    "import wandb\n",
    "import numpy as np\n",
    "import pandas as pd\n",
    "# import matplotlib.pyplot as plt"
   ]
  },
  {
   "cell_type": "markdown",
   "metadata": {},
   "source": [
    "## Plot basic charts using W&B. "
   ]
  },
  {
   "cell_type": "code",
   "execution_count": null,
   "metadata": {},
   "outputs": [],
   "source": [
    "# #export\n",
    "# def plot_basic_charts(\n",
    "#     chart_type:str='line',  #  Choose a basic chart type to plot, 'line', 'bar', 'scatter' (default:'line')\n",
    "#     x_data:str=None,  # x-axis data\n",
    "#     y_data:str=None,  # y-axis data.\n",
    "#     x_name:str=None,  # x-axis name.\n",
    "#     y_name:str=None,  # y-axis name.\n",
    "#     chart_title:str=None,  # Chart title.\n",
    "#     wandb_chart_name:str='basic-chart'  # Chart name.\n",
    "# ):\n",
    "\n",
    "#     '''\n",
    "#     Plot basic W&B charts.\n",
    "    \n",
    "    \n",
    "#     #### Examples\n",
    "#     --------\n",
    "#     **Plot a simple line chart**\n",
    "#     plot_basic_charts(chart_type='line', x_data=[1,2,3,4,5], y_data=[1,2,3,4,5], x_name=\"x\", y_name=\"y\", chart_title=\"Simple line chart\")\n",
    "    \n",
    "#     **Plot a simple bar chart**\n",
    "#     plot_basic_charts(chart_type='bar', x_data=['a','b','c','d','e'], y_data=[1,2,3,4,5], x_name=\"x\", y_name=\"y\", chart_title=\"Simple bar chart\")\n",
    "    \n",
    "#     Note: When plotting a bar chart, x_data is the labels while y_data is the values.\n",
    "    \n",
    "#     **Plot a simple scatter chart**\n",
    "#     plot_basic_charts(chart_type='scatter', x_data=[1,2,3,4,5], y_data=[1,2,3,4,5], x_name=\"x\", y_name=\"y\", chart_title=\"Simple scatter chart\")\n",
    "#     '''\n",
    "    \n",
    "#     data = [[x, y] for (x, y) in zip(x_data, y_data)]\n",
    "#     table = wandb.Table(data=data, columns = [x_name, y_name])\n",
    "    \n",
    "#     if chart_type == 'line':\n",
    "#         wandb.log({f\"{wandb_chart_name}\" : wandb.plot.line(table, x_name, y_name, title=chart_title)})\n",
    "#     elif chart_type == 'bar':\n",
    "#         wandb.log({f\"{wandb_chart_name}\" : wandb.plot.bar(table, x_name, y_name, title=chart_title)})\n",
    "#     elif chart_type == 'scatter':\n",
    "#         wandb.log({f\"{wandb_chart_name}\" : wandb.plot.scatter(table, x_name, y_name, title=chart_title)})"
   ]
  },
  {
   "cell_type": "code",
   "execution_count": null,
   "metadata": {},
   "outputs": [],
   "source": [
    "# x_values = ['a', 'b', 'c', 'd', 'e']\r\n",
    "# y_values = [1,2,3,4,5]\r\n",
    "\r\n",
    "# run = wandb.init(entity='ayush-thakur', project='tests')\r\n",
    "# plot_basic_charts(chart_type='bar', x_data=x_values, y_data=y_values, x_name=\"x\", y_name=\"y\", chart_title=\"Simple scatter chart\")\r\n",
    "# run.finish()"
   ]
  },
  {
   "cell_type": "markdown",
   "metadata": {},
   "source": [
    "## Log Images to W&B"
   ]
  },
  {
   "cell_type": "code",
   "execution_count": null,
   "metadata": {},
   "outputs": [],
   "source": [
    "# def log_images(\n",
    "#     images:list, # List of image array/PIL Images or image files to log.\n",
    "#     log_as_sequence:bool=False,):\n",
    "#     '''\n",
    "#     Log images to wandb. You can pass in list of images as ndarray, PIL Image, or filepath.\n",
    "    \n",
    "#     #### Examples\n",
    "#     --------\n",
    "#     **Log images as sequence**\n",
    "#     log_images(images=[\"image1.png\", \"image2.png\"], log_as_sequence=True)\n",
    "#     log_images(images=[image1, image2], log_as_sequence=True)\n",
    "\n",
    "    \n",
    "#     **Log images as grid**\n",
    "#     log_images(images=[\"image1.png\", \"image2.png\", \"image3.png\"], log_as_sequence=False)\n",
    "#     log_images(images=[image1.png, image2.png, image3], log_as_sequence=False)\n",
    "#     '''\n",
    "\n",
    "#     if log_as_sequence: # The images are logged with a *slider*. Ideal for visualizing sequences.\n",
    "#         for image in images:\n",
    "#             wandb.log({\"image\": wandb.Image(image)})\n",
    "#     else: # The images are logged as grid. Ideal for visualizing single images.\n",
    "#         wandb.log({\"image\" : [wandb.Image(image) for image in images]})"
   ]
  },
  {
   "cell_type": "code",
   "execution_count": null,
   "metadata": {},
   "outputs": [],
   "source": [
    "# run = wandb.init(entity='ayush-thakur', project='tests')\r\n",
    "# log_images(images=[\"data/images/blackhole.jpg\", \"data/images/moon.jpg\"])\r\n",
    "# run.finish()"
   ]
  },
  {
   "cell_type": "code",
   "execution_count": null,
   "metadata": {},
   "outputs": [
    {
     "name": "stdout",
     "output_type": "stream",
     "text": [
      "Converted 00_data.ipynb.\n",
      "Converted 01_preprocess.ipynb.\n",
      "Converted 02_utils.ipynb.\n",
      "Converted 03_wandb_utils.ipynb.\n",
      "Converted 04_wandb_viz.ipynb.\n",
      "Converted index.ipynb.\n"
     ]
    }
   ],
   "source": [
    "#hide\r\n",
    "from nbdev.export import notebook2script; notebook2script()"
   ]
  },
  {
   "cell_type": "code",
   "execution_count": null,
   "metadata": {},
   "outputs": [],
   "source": []
  }
 ],
 "metadata": {
  "kernelspec": {
   "display_name": "Python 3",
   "language": "python",
   "name": "python3"
  }
 },
 "nbformat": 4,
 "nbformat_minor": 4
}
