{
 "cells": [
  {
   "cell_type": "code",
   "execution_count": null,
   "metadata": {},
   "outputs": [],
   "source": [
    "# default_exp wandb_viz"
   ]
  },
  {
   "cell_type": "markdown",
   "metadata": {},
   "source": [
    "# Weights and Biases Visualizations\r\n",
    "\r\n",
    "> This module offers useful visualizations using Weights and Biases."
   ]
  },
  {
   "cell_type": "code",
   "execution_count": null,
   "metadata": {},
   "outputs": [],
   "source": [
    "#hide\n",
    "#skip\r\n",
    "from nbverbose.showdoc import *"
   ]
  },
  {
   "cell_type": "code",
   "execution_count": null,
   "metadata": {},
   "outputs": [],
   "source": [
    "#hide \r\n",
    "# %load_ext autoreload\r\n",
    "# %autoreload 2"
   ]
  },
  {
   "cell_type": "code",
   "execution_count": null,
   "metadata": {},
   "outputs": [],
   "source": [
    "#export\r\n",
    "import os\r\n",
    "import wandb\r\n",
    "import numpy as np\r\n",
    "import pandas as pd\r\n",
    "import matplotlib.pyplot as plt"
   ]
  },
  {
   "cell_type": "markdown",
   "metadata": {},
   "source": [
    "## Plot basic charts using W&B. "
   ]
  },
  {
   "cell_type": "code",
   "execution_count": null,
   "metadata": {},
   "outputs": [],
   "source": [
    "#export\r\n",
    "def plot_basic_charts(\r\n",
    "    chart_type:str='line',  #  Choose a basic chart type to plot, 'line', 'bar', 'scatter' (default:'line')\r\n",
    "    x_data:str=None,  # x-axis data\r\n",
    "    y_data:str=None,  # y-axis data.\r\n",
    "    x_name:str=None,  # x-axis name.\r\n",
    "    y_name:str=None,  # y-axis name.\r\n",
    "    chart_title:str=None,  # Chart title.\r\n",
    "    wandb_chart_name:str='basic-chart'  # Chart name.\r\n",
    "):\r\n",
    "\r\n",
    "    '''\r\n",
    "    Plot basic W&B charts.\r\n",
    "    \r\n",
    "    \r\n",
    "    #### Examples\r\n",
    "    --------\r\n",
    "    **Plot a simple line chart**\r\n",
    "    plot_basic_charts(chart_type='line', x_data=[1,2,3,4,5], y_data=[1,2,3,4,5], x_name=\"x\", y_name=\"y\", chart_title=\"Simple line chart\")\r\n",
    "    \r\n",
    "    **Plot a simple bar chart**\r\n",
    "    plot_basic_charts(chart_type='bar', x_data=['a','b','c','d','e'], y_data=[1,2,3,4,5], x_name=\"x\", y_name=\"y\", chart_title=\"Simple bar chart\")\r\n",
    "    \r\n",
    "    Note: When plotting a bar chart, x_data is the labels while y_data is the values.\r\n",
    "    \r\n",
    "    **Plot a simple scatter chart**\r\n",
    "    plot_basic_charts(chart_type='scatter', x_data=[1,2,3,4,5], y_data=[1,2,3,4,5], x_name=\"x\", y_name=\"y\", chart_title=\"Simple scatter chart\")\r\n",
    "    '''\r\n",
    "    \r\n",
    "    data = [[x, y] for (x, y) in zip(x_data, y_data)]\r\n",
    "    table = wandb.Table(data=data, columns = [x_name, y_name])\r\n",
    "    \r\n",
    "    if chart_type == 'line':\r\n",
    "        wandb.log({f\"{wandb_chart_name}\" : wandb.plot.line(table, x_name, y_name, title=chart_title)})\r\n",
    "    elif chart_type == 'bar':\r\n",
    "        wandb.log({f\"{wandb_chart_name}\" : wandb.plot.bar(table, x_name, y_name, title=chart_title)})\r\n",
    "    elif chart_type == 'scatter':\r\n",
    "        wandb.log({f\"{wandb_chart_name}\" : wandb.plot.scatter(table, x_name, y_name, title=chart_title)})"
   ]
  },
  {
   "cell_type": "code",
   "execution_count": null,
   "metadata": {},
   "outputs": [],
   "source": [
    "# x_values = ['a', 'b', 'c', 'd', 'e']\r\n",
    "# y_values = [1,2,3,4,5]\r\n",
    "\r\n",
    "# run = wandb.init(entity='ayush-thakur', project='tests')\r\n",
    "# plot_basic_charts(chart_type='bar', x_data=x_values, y_data=y_values, x_name=\"x\", y_name=\"y\", chart_title=\"Simple scatter chart\")\r\n",
    "# run.finish()"
   ]
  },
  {
   "cell_type": "markdown",
   "metadata": {},
   "source": [
    "## Log Images to W&B"
   ]
  },
  {
   "cell_type": "code",
   "execution_count": null,
   "metadata": {},
   "outputs": [],
   "source": [
    "def log_images(\r\n",
    "    images:list, # List of image array/PIL Images or image files to log.\r\n",
    "    log_as_sequence:bool=False,):\r\n",
    "    '''\r\n",
    "    Log images to wandb. You can pass in list of images as ndarray, PIL Image, or filepath.\r\n",
    "    \r\n",
    "    #### Examples\r\n",
    "    --------\r\n",
    "    **Log images as sequence**\r\n",
    "    log_images(images=[\"image1.png\", \"image2.png\"], log_as_sequence=True)\r\n",
    "    log_images(images=[image1, image2], log_as_sequence=True)\r\n",
    "\r\n",
    "    \r\n",
    "    **Log images as grid**\r\n",
    "    log_images(images=[\"image1.png\", \"image2.png\", \"image3.png\"], log_as_sequence=False)\r\n",
    "    log_images(images=[image1.png, image2.png, image3], log_as_sequence=False)\r\n",
    "    '''\r\n",
    "\r\n",
    "    if log_as_sequence: # The images are logged with a *slider*. Ideal for visualizing sequences.\r\n",
    "        for image in images:\r\n",
    "            wandb.log({\"image\": wandb.Image(image)})\r\n",
    "    else: # The images are logged as grid. Ideal for visualizing single images.\r\n",
    "        wandb.log({\"image\" : [wandb.Image(image) for image in images]})\r\n"
   ]
  },
  {
   "cell_type": "code",
   "execution_count": null,
   "metadata": {},
   "outputs": [],
   "source": [
    "# run = wandb.init(entity='ayush-thakur', project='tests')\r\n",
    "# log_images(images=[\"data/images/blackhole.jpg\", \"data/images/moon.jpg\"])\r\n",
    "# run.finish()"
   ]
  },
  {
   "cell_type": "code",
   "execution_count": null,
   "metadata": {},
   "outputs": [
    {
     "name": "stdout",
     "output_type": "stream",
     "text": [
      "Converted 00_data.ipynb.\n",
      "Converted 01_preprocess.ipynb.\n",
      "Converted 02_utils.ipynb.\n",
      "Converted 03_wandb_utils.ipynb.\n",
      "Converted 04_wandb_viz.ipynb.\n",
      "Converted index.ipynb.\n"
     ]
    }
   ],
   "source": [
    "#hide\r\n",
    "from nbdev.export import notebook2script; notebook2script()"
   ]
  },
  {
   "cell_type": "code",
   "execution_count": null,
   "metadata": {},
   "outputs": [],
   "source": []
  }
 ],
 "metadata": {
  "kernelspec": {
   "display_name": "Python 3",
   "language": "python",
   "name": "python3"
  }
 },
 "nbformat": 4,
 "nbformat_minor": 4
}
