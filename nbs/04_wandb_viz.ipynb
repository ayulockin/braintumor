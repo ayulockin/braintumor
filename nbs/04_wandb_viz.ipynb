{
 "cells": [
  {
   "cell_type": "code",
   "execution_count": null,
   "metadata": {},
   "outputs": [],
   "source": [
    "# default_exp wandb_viz"
   ]
  },
  {
   "cell_type": "markdown",
   "metadata": {},
   "source": [
    "# Weights and Biases Visualizations\r\n",
    "\r\n",
    "> This module offers useful visualizations using Weights and Biases."
   ]
  },
  {
   "cell_type": "code",
   "execution_count": null,
   "metadata": {},
   "outputs": [],
   "source": [
    "#hide\r\n",
    "from nbdev.showdoc import *"
   ]
  },
  {
   "cell_type": "code",
   "execution_count": null,
   "metadata": {},
   "outputs": [],
   "source": [
    "#hide \r\n",
    "# %load_ext autoreload\r\n",
    "# %autoreload 2"
   ]
  },
  {
   "cell_type": "code",
   "execution_count": null,
   "metadata": {},
   "outputs": [],
   "source": [
    "#export\r\n",
    "import os\r\n",
    "import wandb\r\n",
    "import numpy as np\r\n",
    "import pandas as pd\r\n",
    "import matplotlib.pyplot as plt"
   ]
  },
  {
   "cell_type": "markdown",
   "metadata": {},
   "source": [
    "## Plot basic charts using W&B. "
   ]
  },
  {
   "cell_type": "code",
   "execution_count": null,
   "metadata": {},
   "outputs": [],
   "source": [
    "#export\r\n",
    "def wandb_plot_basic_charts(chart_type='line', x_data=None, y_data=None, x_name=None, \r\n",
    "                            y_name=None, chart_title=None, wandb_chart_name='basic-chart'):\r\n",
    "    \"\"\"\r\n",
    "    wandb_plot_basic_charts(x_data=None, y_data=None, x_name=None, y_name=None, chart_title=None)\r\n",
    "    \r\n",
    "    Plot basic charts.\r\n",
    "    \r\n",
    "    Parameters\r\n",
    "    ----------\r\n",
    "    chart_type: str\r\n",
    "        Choose a basic chart type to plot. \r\n",
    "        - 'line'\r\n",
    "        - 'bar'\r\n",
    "        - 'scatter'\r\n",
    "    x_data : list, optional\r\n",
    "        x-axis data.\r\n",
    "    y_data : list, optional\r\n",
    "        y-axis data.\r\n",
    "    x_name : str, optional\r\n",
    "        x-axis name.\r\n",
    "    y_name : str, optional\r\n",
    "        y-axis name.\r\n",
    "    chart_title : str, optional\r\n",
    "        Chart title.\r\n",
    "    wandb_chart_name : str, optional\r\n",
    "        Chart name.\r\n",
    "    \r\n",
    "    Returns\r\n",
    "    -------\r\n",
    "    None\r\n",
    "    \r\n",
    "    Examples\r\n",
    "    --------\r\n",
    "    # Plot a simple line chart.\r\n",
    "    wandb_plot_basic_charts(chart_type='line', x_data=[1,2,3,4,5], y_data=[1,2,3,4,5], x_name=\"x\", y_name=\"y\", chart_title=\"Simple line chart\")\r\n",
    "    \r\n",
    "    # Plot a simple bar chart.\r\n",
    "    wandb_plot_basic_charts(chart_type='bar', x_data=['a','b','c','d','e'], y_data=[1,2,3,4,5], x_name=\"x\", y_name=\"y\", chart_title=\"Simple bar chart\")\r\n",
    "    Note: When plotting a bar chart, x_data is the labels while y_data is the values.\r\n",
    "    \r\n",
    "    # Plot a simple scatter plot. \r\n",
    "    wandb_plot_basic_charts(chart_type='scatter', x_data=[1,2,3,4,5], y_data=[1,2,3,4,5], x_name=\"x\", y_name=\"y\", chart_title=\"Simple scatter chart\")\r\n",
    "    \"\"\"\r\n",
    "    # [TODO] Should we initialize W&B run inside the function?\r\n",
    "\r\n",
    "    data = [[x, y] for (x, y) in zip(x_data, y_data)]\r\n",
    "    table = wandb.Table(data=data, columns = [x_name, y_name])\r\n",
    "    \r\n",
    "    if chart_type == 'line':\r\n",
    "        wandb.log({f\"{wandb_chart_name}\" : wandb.plot.line(table, x_name, y_name, title=chart_title)})\r\n",
    "    elif chart_type == 'bar':\r\n",
    "        wandb.log({f\"{wandb_chart_name}\" : wandb.plot.bar(table, x_name, y_name, title=chart_title)})\r\n",
    "    elif chart_type == 'scatter':\r\n",
    "        wandb.log({f\"{wandb_chart_name}\" : wandb.plot.scatter(table, x_name, y_name, title=chart_title)})\r\n"
   ]
  },
  {
   "cell_type": "code",
   "execution_count": null,
   "metadata": {},
   "outputs": [],
   "source": [
    "# x_values = ['a', 'b', 'c', 'd', 'e']\r\n",
    "# y_values = [1,2,3,4,5]\r\n",
    "\r\n",
    "# run = wandb.init(entity='ayush-thakur', project='tests')\r\n",
    "# wandb_plot_basic_charts(chart_type='bar', x_data=x_values, y_data=y_values, x_name=\"x\", y_name=\"y\", chart_title=\"Simple scatter chart\")\r\n",
    "# run.finish()"
   ]
  },
  {
   "cell_type": "code",
   "execution_count": null,
   "metadata": {},
   "outputs": [
    {
     "name": "stdout",
     "output_type": "stream",
     "text": [
      "Converted 00_data.ipynb.\n",
      "Converted 01_preprocess.ipynb.\n",
      "Converted 02_utils.ipynb.\n",
      "Converted 03_wandb_utils.ipynb.\n",
      "Converted index.ipynb.\n"
     ]
    }
   ],
   "source": [
    "#hide\r\n",
    "from nbdev.export import notebook2script; notebook2script()"
   ]
  }
 ],
 "metadata": {
  "kernelspec": {
   "display_name": "Python 3.7.3 64-bit ('tf-gpu': conda)",
   "name": "python3"
  }
 },
 "nbformat": 4,
 "nbformat_minor": 2
}
