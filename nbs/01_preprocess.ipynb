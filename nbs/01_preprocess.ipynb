{
 "cells": [
  {
   "cell_type": "code",
   "execution_count": null,
   "metadata": {},
   "outputs": [],
   "source": [
    "# default_exp preprocess"
   ]
  },
  {
   "cell_type": "markdown",
   "metadata": {},
   "source": [
    "# Preprocess\r\n",
    "\r\n",
    "> This module offers useful preprocessing functionlities."
   ]
  },
  {
   "cell_type": "code",
   "execution_count": null,
   "metadata": {},
   "outputs": [],
   "source": [
    "#hide\n",
    "from nbverbose.showdoc import **"
   ]
  },
  {
   "cell_type": "code",
   "execution_count": null,
   "metadata": {},
   "outputs": [],
   "source": [
    "#hide\r\n",
    "# %load_ext autoreload\r\n",
    "# %autoreload 2 "
   ]
  },
  {
   "cell_type": "code",
   "execution_count": null,
   "metadata": {},
   "outputs": [],
   "source": [
    "#export\r\n",
    "import os\r\n",
    "import wandb\r\n",
    "import numpy as np\r\n",
    "import pandas as pd\r\n",
    "from pathlib import Path\r\n",
    "import matplotlib.pyplot as plt\r\n",
    "\r\n",
    "# Pydicom related imports\r\n",
    "import pydicom\r\n",
    "from pydicom.pixel_data_handlers.util import apply_voi_lut\r\n",
    "import SimpleTK as sitk\r\n"
   ]
  },
  {
   "cell_type": "markdown",
   "metadata": {},
   "source": [
    "## VoxelData\n",
    "\n",
    "MRI plane type (Axial, Coronal, and Sagittal) is not consistent among patients or MRI scans. This class obtain normalized voxels by appropriately rotating MRI voxels."
   ]
  },
  {
   "cell_type": "code",
   "execution_count": null,
   "metadata": {},
   "outputs": [],
   "source": [
    "#export\n",
    "class VoxelData():\n",
    "    \"\"\"\n",
    "    MRI plane type (Axial, Coronal, and Sagittal) is not consistent among patients or MRI scans. \n",
    "    This class obtain normalized voxels by appropriately rotating MRI voxels.\n",
    "    \"\"\"\n",
    "    def __init__(self, reference_dir:str):\n",
    "        # Set up SITK reader\n",
    "        self.reader = sitk.ImageSeriesReader()\n",
    "        self.reader.LoadPrivateTagsOn()\n",
    "        \n",
    "        # get reference image\n",
    "        self.reference_image = self.get_reference_image(reference_dir)\n",
    "\n",
    "\n",
    "    def read_dicom(self, dicom_dir):\n",
    "        \"\"\"\n",
    "        Reads a dicom file and returns the metadata\n",
    "\n",
    "        Parameters\n",
    "        ----------\n",
    "        dicom_dir : str (path to DICOM scan)\n",
    "        \"\"\"\n",
    "        filenamesDICOM = self.reader.GetGDCMSeriesFileNames(dicom_dir)\n",
    "        self.reader.SetFileNames(filenamesDICOM)\n",
    "        file = self.reader.Execute()\n",
    "        return file\n",
    "\n",
    "    def resample(self, image, ref_image):\n",
    "        \"\"\"\n",
    "        Resamples the image to the same size and orientation as the reference image\n",
    "\n",
    "        Parameters\n",
    "        ----------\n",
    "        image : SimpleITK image\n",
    "        ref_image : Reference SimpleITK image\n",
    "        \"\"\"\n",
    "        resampler = sitk.ResampleImageFilter()\n",
    "        resampler.SetReferenceImage(ref_image)\n",
    "        resampler.SetInterpolator(sitk.sitkLinear)\n",
    "        \n",
    "        resampler.SetTransform(sitk.AffineTransform(image.GetDimension()))\n",
    "\n",
    "        resampler.SetOutputSpacing(ref_image.GetSpacing())\n",
    "\n",
    "        resampler.SetSize(ref_image.GetSize())\n",
    "\n",
    "        resampler.SetOutputDirection(ref_image.GetDirection())\n",
    "\n",
    "        resampler.SetOutputOrigin(ref_image.GetOrigin())\n",
    "\n",
    "        resampler.SetDefaultPixelValue(image.GetPixelIDValue())\n",
    "\n",
    "        resamped_image = resampler.Execute(image)\n",
    "        \n",
    "        return resamped_image\n",
    "\n",
    "    def normalize(self, data):\n",
    "        \"\"\"\n",
    "        Normalizes the data to the range [0, 1]\n",
    "        \n",
    "        Parameters\n",
    "        ----------\n",
    "        data : numpy array\n",
    "        \"\"\"\n",
    "        return (data - np.min(data)) / (np.max(data) - np.min(data))\n",
    "\n",
    "    def get_reference_image(self, reference_dir):\n",
    "        \"\"\"\n",
    "        Returns the reference SimpleITK image.\n",
    "\n",
    "        Parameters\n",
    "        ----------\n",
    "        reference_dir : str (path to reference DICOM scan)\n",
    "        \"\"\"\n",
    "        return self.read_dicom(reference_dir)\n",
    "\n",
    "    def get_voxel_data(self, dicom_dir):\n",
    "        \"\"\"\n",
    "        Returns the voxel data.\n",
    "\n",
    "        Parameters\n",
    "        ----------\n",
    "        dicom_dir : str (path to DICOM scan)\n",
    "        \"\"\"\n",
    "        # Read DICOM\n",
    "        dicom_image = self.read_dicom(dicom_dir)\n",
    "\n",
    "        # Resample to the same size and orientation as the reference image\n",
    "        resampled_image = self.resample(dicom_image, self.reference_image)\n",
    "\n",
    "        # Normalize to the range [0, 1]\n",
    "        normalized_image = self.normalize(sitk.GetArrayFromImage(resampled_image))\n",
    "\n",
    "        return normalized_image"
   ]
  },
  {
   "cell_type": "code",
   "execution_count": null,
   "metadata": {},
   "outputs": [],
   "source": [
    "# TRAIN_PATH = Path(os.getcwd()).parents[0] / 'data/sample/train/'\r\n",
    "# folder = os.listdir(TRAIN_PATH)[0]\r\n",
    "\r\n",
    "# connect_voxel = VoxelData(os.path.join(TRAIN_PATH, folder, 'T1w'))\r\n",
    "# flair = connect_voxel.get_voxel_data(os.path.join(TRAIN_PATH, folder, 'FLAIR'))\r\n",
    "# t1wce = connect_voxel.get_voxel_data(os.path.join(TRAIN_PATH, folder, 'T1wCE'))\r\n",
    "# t2 = connect_voxel.get_voxel_data(os.path.join(TRAIN_PATH, folder, '2w'))\r\n"
   ]
  },
  {
   "cell_type": "code",
   "execution_count": null,
   "metadata": {},
   "outputs": [
    {
     "name": "stdout",
     "output_type": "stream",
     "text": [
      "Converted 00_data.ipynb.\n",
      "Converted 00_preprocess.ipynb.\n",
      "Converted 00_utils.ipynb.\n",
      "Converted index.ipynb.\n"
     ]
    }
   ],
   "source": [
    "#hide\r\n",
    "from nbdev.export import notebook2script; notebook2script()"
   ]
  }
 ],
 "metadata": {
  "kernelspec": {
   "display_name": "Python 3",
   "language": "python",
   "name": "python3"
  }
 },
 "nbformat": 4,
 "nbformat_minor": 4
}
