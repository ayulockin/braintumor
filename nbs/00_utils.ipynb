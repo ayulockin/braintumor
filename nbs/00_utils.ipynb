{
 "cells": [
  {
   "cell_type": "code",
   "execution_count": null,
   "metadata": {},
   "outputs": [],
   "source": [
    "# default_exp utils"
   ]
  },
  {
   "cell_type": "markdown",
   "metadata": {},
   "source": [
    "# Utils\r\n",
    "\r\n",
    "> This module offers useful utilities."
   ]
  },
  {
   "cell_type": "code",
   "execution_count": null,
   "metadata": {},
   "outputs": [],
   "source": [
    "#hide\r\n",
    "from nbdev.showdoc import *"
   ]
  },
  {
   "cell_type": "code",
   "execution_count": null,
   "metadata": {},
   "outputs": [],
   "source": [
    "#hide\r\n",
    "# %load_ext autoreload\r\n",
    "# %autoreload 2"
   ]
  },
  {
   "cell_type": "code",
   "execution_count": null,
   "metadata": {},
   "outputs": [],
   "source": [
    "#export\r\n",
    "import os\r\n",
    "import wandb\r\n",
    "import numpy as np\r\n",
    "import pandas as pd\r\n",
    "import matplotlib.pyplot as plt"
   ]
  },
  {
   "cell_type": "code",
   "execution_count": null,
   "metadata": {},
   "outputs": [],
   "source": [
    "#export\r\n",
    "def log_datadir_as_artifact(wandb_run, path_to_dir, artifact_name, artifact_type='dataset'):\r\n",
    "    \"\"\"\r\n",
    "    Logs a data directory as an artifact in wandb.\r\n",
    "    wandb_run: wandb.Run object\r\n",
    "    path_to_dir: path to the data directory\r\n",
    "    artifact_name: name of the artifact\r\n",
    "    artifact_type: type of the artifact\r\n",
    "    \"\"\"\r\n",
    "    \r\n",
    "    artifact = wandb.Artifact(artifact_name, type=artifact_type)\r\n",
    "    artifact.add_dir(path_to_dir)\r\n",
    "    wandb_run.log_artifact(artifact)\r\n",
    "    "
   ]
  },
  {
   "cell_type": "code",
   "execution_count": null,
   "metadata": {},
   "outputs": [],
   "source": [
    "#hide\r\n",
    "# run = wandb.init(entity='wandb_fc', project='rsna-miccai-brain', group='data', job_type='sample_data')\r\n",
    "# log_datadir_as_artifact(run, '../data/smaller_sample/', 'sample_data', artifact_type='dataset')\r\n",
    "# wandb.finish()"
   ]
  },
  {
   "cell_type": "code",
   "execution_count": null,
   "metadata": {},
   "outputs": [
    {
     "name": "stdout",
     "output_type": "stream",
     "text": [
      "Converted 00_data.ipynb.\n",
      "Converted 00_utils.ipynb.\n",
      "Converted index.ipynb.\n"
     ]
    }
   ],
   "source": [
    "#hide\r\n",
    "from nbdev.export import notebook2script; notebook2script()"
   ]
  }
 ],
 "metadata": {
  "kernelspec": {
   "display_name": "Python 3.7.3 64-bit ('tf-gpu': conda)",
   "name": "python3"
  }
 },
 "nbformat": 4,
 "nbformat_minor": 2
}
