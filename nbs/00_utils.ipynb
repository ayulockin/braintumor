{
 "cells": [
  {
   "cell_type": "code",
   "execution_count": null,
   "metadata": {},
   "outputs": [],
   "source": [
    "# default_exp utils"
   ]
  },
  {
   "cell_type": "markdown",
   "metadata": {},
   "source": [
    "# Utils\r\n",
    "\r\n",
    "> This module offers useful utilities."
   ]
  },
  {
   "cell_type": "code",
   "execution_count": null,
   "metadata": {},
   "outputs": [],
   "source": [
    "#hide\r\n",
    "from nbdev.showdoc import *"
   ]
  },
  {
   "cell_type": "code",
   "execution_count": null,
   "metadata": {},
   "outputs": [],
   "source": [
    "#hide\r\n",
    "# %load_ext autoreload\r\n",
    "# %autoreload 2"
   ]
  },
  {
   "cell_type": "code",
   "execution_count": null,
   "metadata": {},
   "outputs": [],
   "source": [
    "#export\r\n",
    "import os\r\n",
    "import wandb\r\n",
    "import numpy as np\r\n",
    "import pandas as pd\r\n",
    "from pathlib import Path\r\n",
    "import matplotlib.pyplot as plt\r\n",
    "\r\n",
    "# pydicom related imports\r\n",
    "import pydicom\r\n",
    "from pydicom.pixel_data_handlers.util import apply_voi_lut"
   ]
  },
  {
   "cell_type": "code",
   "execution_count": null,
   "metadata": {},
   "outputs": [],
   "source": [
    "#export\r\n",
    "def log_datadir_as_artifact(wandb_run, path_to_dir, artifact_name, artifact_type='dataset'):\r\n",
    "    \"\"\"\r\n",
    "    Logs a data directory as an artifact in wandb.\r\n",
    "    wandb_run: wandb.Run object\r\n",
    "    path_to_dir: path to the data directory\r\n",
    "    artifact_name: name of the artifact\r\n",
    "    artifact_type: type of the artifact\r\n",
    "    \"\"\"\r\n",
    "    \r\n",
    "    artifact = wandb.Artifact(artifact_name, type=artifact_type)\r\n",
    "    artifact.add_dir(path_to_dir)\r\n",
    "    wandb_run.log_artifact(artifact)\r\n",
    "    "
   ]
  },
  {
   "cell_type": "code",
   "execution_count": null,
   "metadata": {},
   "outputs": [],
   "source": [
    "#hide\r\n",
    "# run = wandb.init(entity='wandb_fc', project='rsna-miccai-brain', group='data', job_type='sample_data')\r\n",
    "# log_datadir_as_artifact(run, '../data/smaller_sample/', 'sample_data', artifact_type='dataset')\r\n",
    "# wandb.finish()"
   ]
  },
  {
   "cell_type": "code",
   "execution_count": null,
   "metadata": {},
   "outputs": [],
   "source": [
    "#export\r\n",
    "def get_dicom_metadata(path_to_dicom_file, meta_cols):\r\n",
    "    \"\"\"\r\n",
    "    Returns the metadata of a single dicom file as a dictionary.\r\n",
    "\r\n",
    "    Params:\r\n",
    "        path_to_dicom_file: path to the dicom file\r\n",
    "        meta_cols: list of metadata columns to extract\r\n",
    "    \"\"\"\r\n",
    "    dicom_object = pydicom.dcmread(path_to_dicom_file)\r\n",
    "\r\n",
    "    col_dict_train = dict()\r\n",
    "    for col in meta_cols: \r\n",
    "        try:\r\n",
    "            col_dict_train[col] = str(getattr(dicom_object, col))\r\n",
    "        except AttributeError:\r\n",
    "            col_dict_train[col] = \"NaN\"\r\n",
    "    \r\n",
    "    return col_dict_train\r\n"
   ]
  },
  {
   "cell_type": "code",
   "execution_count": null,
   "metadata": {},
   "outputs": [],
   "source": [
    "meta_cols = ['SpecificCharacterSet','ImageType','SOPClassUID',\r\n",
    "             'SOPInstanceUID','AccessionNumber','Modality', 'SeriesDescription', \r\n",
    "             'PatientID', 'MRAcquisitionType', 'SliceThickness', \r\n",
    "             'EchoTime', 'NumberOfAverages', 'ImagingFrequency', 'ImagedNucleus', \r\n",
    "             'MagneticFieldStrength', 'SpacingBetweenSlices', \r\n",
    "             'EchoTrainLength', 'PercentSampling', 'PercentPhaseFieldOfView',\r\n",
    "             'PixelBandwidth', 'TriggerWindow', 'ReconstructionDiameter', 'AcquisitionMatrix',\r\n",
    "             'FlipAngle', 'SAR', 'PatientPosition',\r\n",
    "             'StudyInstanceUID', 'SeriesInstanceUID', 'SeriesNumber', 'InstanceNumber',\r\n",
    "             'ImagePositionPatient', 'ImageOrientationPatient', 'Laterality',\r\n",
    "             'PositionReferenceIndicator', 'SliceLocation', 'InStackPositionNumber',\r\n",
    "             'SamplesPerPixel', 'PhotometricInterpretation', 'Rows', 'Columns', 'PixelSpacing',\r\n",
    "             'BitsAllocated', 'BitsStored', 'HighBit', 'PixelRepresentation', 'WindowCenter',\r\n",
    "             'WindowWidth', 'RescaleIntercept', 'RescaleSlope', 'RescaleType']\r\n",
    "\r\n",
    "TRAIN_PATH = Path(os.getcwd()).parents[0] / 'data/sample/train/'\r\n",
    "folder = os.listdir(TRAIN_PATH)[0]\r\n",
    "sample_file = os.listdir(TRAIN_PATH / folder / 'T1w')[4]\r\n",
    "\r\n",
    "dicom_metadata = get_dicom_metadata(os.path.join(TRAIN_PATH, folder, 'T1w', sample_file), meta_cols)\r\n",
    "assert type(dicom_metadata) == dict"
   ]
  },
  {
   "cell_type": "code",
   "execution_count": null,
   "metadata": {},
   "outputs": [],
   "source": [
    "#export\r\n",
    "def get_all_dicom_metadata(df, meta_cols):\r\n",
    "    \"\"\"\r\n",
    "    Retrieve metadata for each BraTS21ID and return as a dataframe.\r\n",
    "\r\n",
    "    Params:\r\n",
    "        df: dataframe with BraTS21IDs\r\n",
    "        meta_cols: list of metadata columns to extract\r\n",
    "    \"\"\"\r\n",
    "    meta_cols_dict = []\r\n",
    "    for i in range(len(df)):\r\n",
    "        row = df.iloc[i]\r\n",
    "        path = Path(row.path)\r\n",
    "        for scan_type in ['FLAIR', 'T1w', 'T1wCE', 'T2w']:\r\n",
    "            dicomfile = os.listdir(path / scan_type)[0]\r\n",
    "            dicom_metadata = get_dicom_metadata(path / scan_type / dicomfile, meta_cols)\r\n",
    "            dicom_metadata['scan_type'] = scan_type\r\n",
    "            dicom_metadata['id'] = row.BraTS21ID\r\n",
    "            meta_cols_dict.append(dicom_metadata)\r\n",
    "            \r\n",
    "    return pd.DataFrame(meta_cols_dict)"
   ]
  },
  {
   "cell_type": "code",
   "execution_count": null,
   "metadata": {},
   "outputs": [],
   "source": [
    "#export\r\n",
    "def get_patient_id(patient_id):\r\n",
    "    \"\"\"\r\n",
    "    Returns the correct patient id of a dicom file.\r\n",
    "    \r\n",
    "    Parameters\r\n",
    "    ----------\r\n",
    "    patient_id: patient id of the dicom file\r\n",
    "    \"\"\"\r\n",
    "    if patient_id < 10:\r\n",
    "        return '0000'+str(patient_id)\r\n",
    "    elif patient_id >= 10 and patient_id < 100:\r\n",
    "        return '000'+str(patient_id)\r\n",
    "    elif patient_id >= 100 and patient_id < 1000:\r\n",
    "        return '00'+str(patient_id)\r\n",
    "    else:\r\n",
    "        return '0'+str(patient_id)"
   ]
  },
  {
   "cell_type": "code",
   "execution_count": null,
   "metadata": {},
   "outputs": [],
   "source": [
    "assert get_patient_id(1) == '00001'"
   ]
  },
  {
   "cell_type": "code",
   "execution_count": null,
   "metadata": {},
   "outputs": [
    {
     "name": "stdout",
     "output_type": "stream",
     "text": [
      "Converted 00_data.ipynb.\n",
      "Converted 00_preprocess.ipynb.\n",
      "Converted 00_utils.ipynb.\n",
      "Converted index.ipynb.\n"
     ]
    }
   ],
   "source": [
    "#hide\r\n",
    "from nbdev.export import notebook2script; notebook2script()"
   ]
  }
 ],
 "metadata": {
  "kernelspec": {
   "display_name": "Python 3.7.3 64-bit ('tf-gpu': conda)",
   "name": "python3"
  }
 },
 "nbformat": 4,
 "nbformat_minor": 2
}
