{
 "cells": [
  {
   "cell_type": "code",
   "execution_count": null,
   "metadata": {},
   "outputs": [],
   "source": [
    "# default_exp utils"
   ]
  },
  {
   "cell_type": "markdown",
   "metadata": {},
   "source": [
    "# Utils\r\n",
    "\r\n",
    "> This module offers useful utilities."
   ]
  },
  {
   "cell_type": "code",
   "execution_count": null,
   "metadata": {},
   "outputs": [],
   "source": [
    "#hide\r\n",
    "from nbdev.showdoc import *"
   ]
  },
  {
   "cell_type": "code",
   "execution_count": null,
   "metadata": {},
   "outputs": [],
   "source": [
    "#export\r\n",
    "import os\r\n",
    "import ast\r\n",
    "import wandb\r\n",
    "import numpy as np\r\n",
    "import pandas as pd\r\n",
    "from tqdm import tqdm\r\n",
    "from pathlib import Path\r\n",
    "from fastcore.xtras import globtastic\r\n",
    "\r\n",
    "# pydicom related imports\r\n",
    "import pydicom\r\n",
    "from pydicom.pixel_data_handlers.util import apply_voi_lut"
   ]
  },
  {
   "cell_type": "code",
   "execution_count": null,
   "metadata": {},
   "outputs": [],
   "source": [
    "from kagglerecipes.wandb_utils import log_data_as_artifact\r\n",
    "from kagglerecipes.data import TINY_DATA_PATH"
   ]
  },
  {
   "cell_type": "markdown",
   "metadata": {},
   "source": [
    "## Constants"
   ]
  },
  {
   "cell_type": "markdown",
   "metadata": {},
   "source": [
    "Column names from Kaggle Brain Tumor DICOM files"
   ]
  },
  {
   "cell_type": "code",
   "execution_count": null,
   "metadata": {},
   "outputs": [],
   "source": [
    "#export\r\n",
    "kaggle_braintumor_meta_cols = ['SpecificCharacterSet','ImageType','SOPClassUID',\r\n",
    "             'SOPInstanceUID','AccessionNumber','Modality', 'SeriesDescription', \r\n",
    "             'PatientID', 'MRAcquisitionType', 'SliceThickness', \r\n",
    "             'EchoTime', 'NumberOfAverages', 'ImagingFrequency', 'ImagedNucleus', \r\n",
    "             'MagneticFieldStrength', 'SpacingBetweenSlices', \r\n",
    "             'EchoTrainLength', 'PercentSampling', 'PercentPhaseFieldOfView',\r\n",
    "             'PixelBandwidth', 'TriggerWindow', 'ReconstructionDiameter', 'AcquisitionMatrix',\r\n",
    "             'FlipAngle', 'SAR', 'PatientPosition',\r\n",
    "             'StudyInstanceUID', 'SeriesInstanceUID', 'SeriesNumber', 'InstanceNumber',\r\n",
    "             'ImagePositionPatient', 'ImageOrientationPatient', 'Laterality',\r\n",
    "             'PositionReferenceIndicator', 'SliceLocation', 'InStackPositionNumber',\r\n",
    "             'SamplesPerPixel', 'PhotometricInterpretation', 'Rows', 'Columns', 'PixelSpacing',\r\n",
    "             'BitsAllocated', 'BitsStored', 'HighBit', 'PixelRepresentation', 'WindowCenter',\r\n",
    "             'WindowWidth', 'RescaleIntercept', 'RescaleSlope', 'RescaleType']"
   ]
  },
  {
   "cell_type": "markdown",
   "metadata": {},
   "source": [
    "## DICOM Processing"
   ]
  },
  {
   "cell_type": "markdown",
   "metadata": {},
   "source": [
    "Returns the metadata of a single dicom file as a dictionary."
   ]
  },
  {
   "cell_type": "code",
   "execution_count": null,
   "metadata": {},
   "outputs": [],
   "source": [
    "#export\r\n",
    "def get_dicom_metadata(path_to_dicom_file, meta_cols):\r\n",
    "    \"\"\"\r\n",
    "    Returns the metadata of a single dicom file as a dictionary.\r\n",
    "\r\n",
    "    Params:\r\n",
    "        path_to_dicom_file: path to the dicom file\r\n",
    "        meta_cols: list of metadata columns to extract\r\n",
    "    \"\"\"\r\n",
    "    dicom_object = pydicom.dcmread(path_to_dicom_file)\r\n",
    "\r\n",
    "    col_dict_train = dict()\r\n",
    "    for col in meta_cols: \r\n",
    "        try:\r\n",
    "            col_dict_train[col] = str(getattr(dicom_object, col))\r\n",
    "        except AttributeError:\r\n",
    "            col_dict_train[col] = \"NaN\"\r\n",
    "    \r\n",
    "    return col_dict_train"
   ]
  },
  {
   "cell_type": "code",
   "execution_count": null,
   "metadata": {},
   "outputs": [],
   "source": [
    "sample_file = globtastic(TINY_DATA_PATH, file_glob='*.*dcm*')[0]\r\n",
    "dicom_metadata = get_dicom_metadata(sample_file, kaggle_braintumor_meta_cols)\r\n",
    "assert type(dicom_metadata) == dict"
   ]
  },
  {
   "cell_type": "markdown",
   "metadata": {},
   "source": [
    "Retrieve metadata for each BraTS21ID and return as a dataframe."
   ]
  },
  {
   "cell_type": "markdown",
   "metadata": {},
   "source": [
    "Returns the correct patient id of a dicom file."
   ]
  },
  {
   "cell_type": "code",
   "execution_count": null,
   "metadata": {},
   "outputs": [],
   "source": [
    "#export\r\n",
    "def get_patient_id(patient_id):\r\n",
    "    \"\"\"\r\n",
    "    Returns the correct patient id of a dicom file.\r\n",
    "    \r\n",
    "    Params:\r\n",
    "        patient_id: patient id of the dicom file\r\n",
    "    \"\"\"\r\n",
    "    if patient_id < 10:\r\n",
    "        return '0000'+str(patient_id)\r\n",
    "    elif patient_id >= 10 and patient_id < 100:\r\n",
    "        return '000'+str(patient_id)\r\n",
    "    elif patient_id >= 100 and patient_id < 1000:\r\n",
    "        return '00'+str(patient_id)\r\n",
    "    else:\r\n",
    "        return '0'+str(patient_id)"
   ]
  },
  {
   "cell_type": "code",
   "execution_count": null,
   "metadata": {},
   "outputs": [],
   "source": [
    "assert get_patient_id(1) == '00001'"
   ]
  },
  {
   "cell_type": "markdown",
   "metadata": {},
   "source": [
    "Get path to patient folder"
   ]
  },
  {
   "cell_type": "code",
   "execution_count": null,
   "metadata": {},
   "outputs": [],
   "source": [
    "#export\r\n",
    "def get_patient_BraTS21ID_path(row, path_type):\r\n",
    "    patient_id = get_patient_id(int(row.BraTS21ID))\r\n",
    "    return f'{path_type}/{patient_id}/'"
   ]
  },
  {
   "cell_type": "code",
   "execution_count": null,
   "metadata": {},
   "outputs": [],
   "source": [
    "TRAIN_PATH = TINY_DATA_PATH/'train'\r\n",
    "train_df = pd.read_csv(TINY_DATA_PATH/'train_labels.csv')\r\n",
    "# This assertion fails in a Windows system due to path with \\\\\r\n",
    "# assert get_patient_BraTS21ID_path(train_df.iloc[0], TRAIN_PATH) == 'data\\\\tiny\\\\train/00000/'"
   ]
  },
  {
   "cell_type": "code",
   "execution_count": null,
   "metadata": {},
   "outputs": [],
   "source": [
    "#export\r\n",
    "def get_all_dicom_metadata(df, meta_cols:list, scan_types:list=['FLAIR', 'T1w', 'T1wCE', 'T2w']):\r\n",
    "    \"\"\"\r\n",
    "    Retrieve metadata for each BraTS21ID and return as a dataframe.\r\n",
    "\r\n",
    "    Params:\r\n",
    "        df: dataframe with patient folder ids and BraTS21IDs\r\n",
    "        meta_cols: list of metadata columns to extract\r\n",
    "        scan_types: list of strings of mdedical scan types, default: ['FLAIR', 'T1w', 'T1wCE', 'T2w']\r\n",
    "    \"\"\"\r\n",
    "    meta_cols_dict = []\r\n",
    "    for i in tqdm(range(len(df))):\r\n",
    "        row = df.iloc[i]\r\n",
    "        path = Path(row.path) \r\n",
    "        for scan_type in scan_types:\r\n",
    "            dcm_file_paths = globtastic(path / scan_type, file_glob='*.*dcm*')\r\n",
    "            for pth in dcm_file_paths:\r\n",
    "                dicom_metadata = get_dicom_metadata(pth, meta_cols)\r\n",
    "                dicom_metadata['scan_type'] = scan_type\r\n",
    "                dicom_metadata['id'] = row.BraTS21ID\r\n",
    "                meta_cols_dict.append(dicom_metadata)\r\n",
    "            \r\n",
    "    return pd.DataFrame(meta_cols_dict)"
   ]
  },
  {
   "cell_type": "code",
   "execution_count": null,
   "metadata": {},
   "outputs": [],
   "source": [
    "data_patient_path = TRAIN_PATH / os.listdir(TRAIN_PATH)[0]\r\n",
    "\r\n",
    "# construct path based on csv and TRAIN_PATH\r\n",
    "train_df['path'] = train_df.apply(lambda row: get_patient_BraTS21ID_path(row, TRAIN_PATH), axis=1)\r\n",
    "\r\n",
    "folder_exists = train_df['path'] == str(data_patient_path)+'/'\r\n",
    "train_df = train_df[folder_exists]\r\n",
    "\r\n",
    "# Again failing because of windows path issue\r\n",
    "# assert len(train_df) >= 1\r\n",
    "# assert len(get_all_dicom_metadata(train_df, kaggle_braintumor_meta_cols)) == 8"
   ]
  },
  {
   "cell_type": "markdown",
   "metadata": {},
   "source": [
    "Returns the MRI's plane from the dicom data.\n"
   ]
  },
  {
   "cell_type": "code",
   "execution_count": null,
   "metadata": {},
   "outputs": [],
   "source": [
    "#export\r\n",
    "def get_image_plane(data):\r\n",
    "    '''\r\n",
    "    Returns the MRI's plane from the dicom data.\r\n",
    "\r\n",
    "    Params:\r\n",
    "        data: dictionary of dicom metadata\r\n",
    "    \r\n",
    "    '''\r\n",
    "    x1,y1,_,x2,y2,_ = [round(j) for j in ast.literal_eval(data.ImageOrientationPatient)]\r\n",
    "    cords = [x1,y1,x2,y2]\r\n",
    "\r\n",
    "    if cords == [1,0,0,0]:\r\n",
    "        return 'coronal'\r\n",
    "    if cords == [1,0,0,1]:\r\n",
    "        return 'axial'\r\n",
    "    if cords == [0,1,0,0]:\r\n",
    "        return 'sagittal'"
   ]
  },
  {
   "cell_type": "code",
   "execution_count": null,
   "metadata": {},
   "outputs": [
    {
     "name": "stdout",
     "output_type": "stream",
     "text": [
      "Converted 00_data.ipynb.\n",
      "Converted 01_preprocess.ipynb.\n",
      "Converted 02_utils.ipynb.\n",
      "Converted 03_wandb_utils.ipynb.\n",
      "Converted 04_wandb_viz.ipynb.\n",
      "Converted index.ipynb.\n"
     ]
    }
   ],
   "source": [
    "#hide\r\n",
    "from nbdev.export import notebook2script; notebook2script()"
   ]
  },
  {
   "cell_type": "code",
   "execution_count": null,
   "metadata": {},
   "outputs": [],
   "source": []
  }
 ],
 "metadata": {
  "kernelspec": {
   "display_name": "Python 3.7.3 64-bit ('tf-gpu': conda)",
   "name": "python3"
  }
 },
 "nbformat": 4,
 "nbformat_minor": 4
}
