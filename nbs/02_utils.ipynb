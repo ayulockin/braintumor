{
 "cells": [
  {
   "cell_type": "code",
   "execution_count": null,
   "metadata": {},
   "outputs": [],
   "source": [
    "# default_exp utils"
   ]
  },
  {
   "cell_type": "markdown",
   "metadata": {},
   "source": [
    "# Utils\r\n",
    "\r\n",
    "> This module offers useful utilities."
   ]
  },
  {
   "cell_type": "code",
   "execution_count": null,
   "metadata": {},
   "outputs": [],
   "source": [
    "#hide\r\n",
    "from nbdev.showdoc import *"
   ]
  },
  {
   "cell_type": "code",
   "execution_count": null,
   "metadata": {},
   "outputs": [],
   "source": [
    "#hide \n",
    "%load_ext autoreload\n",
    "%autoreload 2"
   ]
  },
  {
   "cell_type": "code",
   "execution_count": null,
   "metadata": {},
   "outputs": [],
   "source": [
    "#export\n",
    "import os\n",
    "import wandb\n",
    "import pandas as pd\n",
    "import numpy as np\n",
    "from pathlib import Path\n",
    "from fastcore.xtras import globtastic\n",
    "\n",
    "# pydicom related imports\n",
    "import pydicom\n",
    "from pydicom.pixel_data_handlers.util import apply_voi_lut"
   ]
  },
  {
   "cell_type": "code",
   "execution_count": null,
   "metadata": {},
   "outputs": [],
   "source": [
    "from kagglerecipes.wandb_utils import log_datadir_as_artifact"
   ]
  },
  {
   "cell_type": "markdown",
   "metadata": {},
   "source": [
    "### Data for testing\n",
    "\n",
    "Code to download the sample DICOM files lives in the Data module"
   ]
  },
  {
   "cell_type": "code",
   "execution_count": null,
   "metadata": {},
   "outputs": [],
   "source": [
    "tiny_data_path = Path('data/tiny')"
   ]
  },
  {
   "cell_type": "markdown",
   "metadata": {},
   "source": [
    "## Constants"
   ]
  },
  {
   "cell_type": "markdown",
   "metadata": {},
   "source": [
    "Column names from Kaggle Brain Tumor DICOM files"
   ]
  },
  {
   "cell_type": "code",
   "execution_count": null,
   "metadata": {},
   "outputs": [],
   "source": [
    "#export\n",
    "kaggle_braintumor_meta_cols = ['SpecificCharacterSet','ImageType','SOPClassUID',\n",
    "             'SOPInstanceUID','AccessionNumber','Modality', 'SeriesDescription', \n",
    "             'PatientID', 'MRAcquisitionType', 'SliceThickness', \n",
    "             'EchoTime', 'NumberOfAverages', 'ImagingFrequency', 'ImagedNucleus', \n",
    "             'MagneticFieldStrength', 'SpacingBetweenSlices', \n",
    "             'EchoTrainLength', 'PercentSampling', 'PercentPhaseFieldOfView',\n",
    "             'PixelBandwidth', 'TriggerWindow', 'ReconstructionDiameter', 'AcquisitionMatrix',\n",
    "             'FlipAngle', 'SAR', 'PatientPosition',\n",
    "             'StudyInstanceUID', 'SeriesInstanceUID', 'SeriesNumber', 'InstanceNumber',\n",
    "             'ImagePositionPatient', 'ImageOrientationPatient', 'Laterality',\n",
    "             'PositionReferenceIndicator', 'SliceLocation', 'InStackPositionNumber',\n",
    "             'SamplesPerPixel', 'PhotometricInterpretation', 'Rows', 'Columns', 'PixelSpacing',\n",
    "             'BitsAllocated', 'BitsStored', 'HighBit', 'PixelRepresentation', 'WindowCenter',\n",
    "             'WindowWidth', 'RescaleIntercept', 'RescaleSlope', 'RescaleType']"
   ]
  },
  {
   "cell_type": "markdown",
   "metadata": {},
   "source": [
    "## DICOM Processing"
   ]
  },
  {
   "cell_type": "markdown",
   "metadata": {},
   "source": [
    "Returns the metadata of a single dicom file as a dictionary."
   ]
  },
  {
   "cell_type": "code",
   "execution_count": null,
   "metadata": {},
   "outputs": [],
   "source": [
    "#export\n",
    "def get_dicom_metadata(path_to_dicom_file, meta_cols):\n",
    "    \"\"\"\n",
    "    Returns the metadata of a single dicom file as a dictionary.\n",
    "\n",
    "    Params:\n",
    "        path_to_dicom_file: path to the dicom file\n",
    "        meta_cols: list of metadata columns to extract\n",
    "    \"\"\"\n",
    "    dicom_object = pydicom.dcmread(path_to_dicom_file)\n",
    "\n",
    "    col_dict_train = dict()\n",
    "    for col in meta_cols: \n",
    "        try:\n",
    "            col_dict_train[col] = str(getattr(dicom_object, col))\n",
    "        except AttributeError:\n",
    "            col_dict_train[col] = \"NaN\"\n",
    "    \n",
    "    return col_dict_train"
   ]
  },
  {
   "cell_type": "code",
   "execution_count": null,
   "metadata": {},
   "outputs": [],
   "source": [
    "sample_file = globtastic(tiny_data_path, file_glob='*.*dcm*')[0]\n",
    "dicom_metadata = get_dicom_metadata(sample_file, kaggle_braintumor_meta_cols)\n",
    "assert type(dicom_metadata) == dict"
   ]
  },
  {
   "cell_type": "markdown",
   "metadata": {},
   "source": [
    "Retrieve metadata for each BraTS21ID and return as a dataframe."
   ]
  },
  {
   "cell_type": "code",
   "execution_count": null,
   "metadata": {},
   "outputs": [],
   "source": [
    "#export\n",
    "def get_all_dicom_metadata(df, meta_cols:list, scan_types:list=['FLAIR', 'T1w', 'T1wCE', 'T2w']):\n",
    "    \"\"\"\n",
    "    Retrieve metadata for each BraTS21ID and return as a dataframe.\n",
    "\n",
    "    Params:\n",
    "        df: dataframe with BraTS21IDs\n",
    "        meta_cols: list of metadata columns to extract\n",
    "        scan_types: list of strings of mdedical scan types, default: ['FLAIR', 'T1w', 'T1wCE', 'T2w']\n",
    "    \"\"\"\n",
    "    meta_cols_dict = []\n",
    "    for i in range(len(df)):\n",
    "        row = df.iloc[i]\n",
    "        path = Path(row.path) \n",
    "        for scan_type in scan_t:\n",
    "            dicomfile = os.listdir(path / scan_type)[0]\n",
    "            dicom_metadata = get_dicom_metadata(path / scan_type / dicomfile, meta_cols)\n",
    "            dicom_metadata['scan_type'] = scan_type\n",
    "            dicom_metadata['id'] = row.BraTS21ID\n",
    "            meta_cols_dict.append(dicom_metadata)\n",
    "            \n",
    "    return pd.DataFrame(meta_cols_dict)"
   ]
  },
  {
   "cell_type": "markdown",
   "metadata": {},
   "source": [
    "Returns the correct patient id of a dicom file."
   ]
  },
  {
   "cell_type": "code",
   "execution_count": null,
   "metadata": {},
   "outputs": [],
   "source": [
    "#export\n",
    "def get_patient_id(patient_id):\n",
    "    \"\"\"\n",
    "    Returns the correct patient id of a dicom file.\n",
    "    \n",
    "    Parameters\n",
    "    ----------\n",
    "    patient_id: patient id of the dicom file\n",
    "    \"\"\"\n",
    "    if patient_id < 10:\n",
    "        return '0000'+str(patient_id)\n",
    "    elif patient_id >= 10 and patient_id < 100:\n",
    "        return '000'+str(patient_id)\n",
    "    elif patient_id >= 100 and patient_id < 1000:\n",
    "        return '00'+str(patient_id)\n",
    "    else:\n",
    "        return '0'+str(patient_id)"
   ]
  },
  {
   "cell_type": "code",
   "execution_count": null,
   "metadata": {},
   "outputs": [],
   "source": [
    "assert get_patient_id(1) == '00001'"
   ]
  },
  {
   "cell_type": "markdown",
   "metadata": {},
   "source": [
    "Returns the MRI's plane from the dicom data.\n"
   ]
  },
  {
   "cell_type": "code",
   "execution_count": null,
   "metadata": {},
   "outputs": [],
   "source": [
    "#export\n",
    "def get_image_plane(data):\n",
    "    '''\n",
    "    Returns the MRI's plane from the dicom data.\n",
    "\n",
    "    Params:\n",
    "        data: dictionary of dicom metadata\n",
    "    \n",
    "    '''\n",
    "    x1,y1,_,x2,y2,_ = [round(j) for j in ast.literal_eval(data.ImageOrientationPatient)]\n",
    "    cords = [x1,y1,x2,y2]\n",
    "\n",
    "    if cords == [1,0,0,0]:\n",
    "        return 'coronal'\n",
    "    if cords == [1,0,0,1]:\n",
    "        return 'axial'\n",
    "    if cords == [0,1,0,0]:\n",
    "        return 'sagittal'"
   ]
  },
  {
   "cell_type": "code",
   "execution_count": null,
   "metadata": {},
   "outputs": [
    {
     "name": "stdout",
     "output_type": "stream",
     "text": [
      "Converted 00_data.ipynb.\n",
      "Converted 00_preprocess.ipynb.\n",
      "Converted 00_utils.ipynb.\n",
      "Converted index.ipynb.\n"
     ]
    }
   ],
   "source": [
    "#hide\r\n",
    "from nbdev.export import notebook2script; notebook2script()"
   ]
  }
 ],
 "metadata": {
  "kernelspec": {
   "display_name": "Python 3",
   "language": "python",
   "name": "python3"
  }
 },
 "nbformat": 4,
 "nbformat_minor": 4
}
