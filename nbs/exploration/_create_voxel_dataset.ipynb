{
 "cells": [
  {
   "cell_type": "code",
   "execution_count": null,
   "metadata": {},
   "outputs": [],
   "source": [
    "import os\r\n",
    "import numpy as np\r\n",
    "import pandas as pd\r\n",
    "import matplotlib.pyplot as plt\r\n",
    "\r\n",
    "# module based imports\r\n",
    "from kagglerecipes.preprocess import VoxelData"
   ]
  },
  {
   "cell_type": "code",
   "execution_count": null,
   "metadata": {},
   "outputs": [],
   "source": [
    "TRAIN_PATH = Path(os.getcwd()).parents[1] / 'data/sample/train/'\r\n",
    "folder = os.listdir(TRAIN_PATH)[0]\r\n",
    "\r\n",
    "connect_voxel = VoxelData(os.path.join(TRAIN_PATH, folder, 'T1w'))\r\n",
    "flair = connect_voxel.get_voxel_data(os.path.join(TRAIN_PATH, folder, 'FLAIR'))\r\n",
    "t1wce = connect_voxel.get_voxel_data(os.path.join(TRAIN_PATH, folder, 'T1wCE'))\r\n",
    "t2 = connect_voxel.get_voxel_data(os.path.join(TRAIN_PATH, folder, 'T2w'))"
   ]
  }
 ],
 "metadata": {
  "kernelspec": {
   "display_name": "Python 3.7.3 64-bit ('tf-gpu': conda)",
   "name": "python3"
  }
 },
 "nbformat": 4,
 "nbformat_minor": 2
}
