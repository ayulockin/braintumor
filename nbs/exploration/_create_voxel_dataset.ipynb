{
 "cells": [
  {
   "cell_type": "markdown",
   "metadata": {},
   "source": [
    "# Imports and Setup"
   ]
  },
  {
   "cell_type": "code",
   "execution_count": null,
   "metadata": {},
   "outputs": [],
   "source": [
    "import os\r\n",
    "import numpy as np\r\n",
    "import pandas as pd\r\n",
    "from tqdm import tqdm\r\n",
    "from pathlib import Path\r\n",
    "import matplotlib.pyplot as plt\r\n",
    "\r\n",
    "# module based imports\r\n",
    "from kagglerecipes.preprocess import VoxelData\r\n",
    "from kagglerecipes.utils import get_dicom_metadata, get_patient_id"
   ]
  },
  {
   "cell_type": "markdown",
   "metadata": {},
   "source": [
    "# Read CSV files"
   ]
  },
  {
   "cell_type": "code",
   "execution_count": null,
   "metadata": {},
   "outputs": [],
   "source": [
    "DATA_PATH = Path(os.getcwd()).parents[1] / 'data'\r\n",
    "TRAIN_PATH = Path(os.getcwd()).parents[1] / 'data/sample/train/'\r\n",
    "TEST_DATA = Path(os.getcwd()).parents[1] / 'data/sample/test/'"
   ]
  },
  {
   "cell_type": "code",
   "execution_count": null,
   "metadata": {},
   "outputs": [
    {
     "data": {
      "text/html": [
       "<div>\n",
       "<style scoped>\n",
       "    .dataframe tbody tr th:only-of-type {\n",
       "        vertical-align: middle;\n",
       "    }\n",
       "\n",
       "    .dataframe tbody tr th {\n",
       "        vertical-align: top;\n",
       "    }\n",
       "\n",
       "    .dataframe thead th {\n",
       "        text-align: right;\n",
       "    }\n",
       "</style>\n",
       "<table border=\"1\" class=\"dataframe\">\n",
       "  <thead>\n",
       "    <tr style=\"text-align: right;\">\n",
       "      <th></th>\n",
       "      <th>BraTS21ID</th>\n",
       "      <th>MGMT_value</th>\n",
       "      <th>path</th>\n",
       "    </tr>\n",
       "  </thead>\n",
       "  <tbody>\n",
       "    <tr>\n",
       "      <th>0</th>\n",
       "      <td>165</td>\n",
       "      <td>0</td>\n",
       "      <td>e:\\Kaggle\\BrainTumor\\kagglerecipes\\data\\sample...</td>\n",
       "    </tr>\n",
       "    <tr>\n",
       "      <th>1</th>\n",
       "      <td>267</td>\n",
       "      <td>0</td>\n",
       "      <td>e:\\Kaggle\\BrainTumor\\kagglerecipes\\data\\sample...</td>\n",
       "    </tr>\n",
       "  </tbody>\n",
       "</table>\n",
       "</div>"
      ],
      "text/plain": [
       "   BraTS21ID  MGMT_value                                               path\n",
       "0        165           0  e:\\Kaggle\\BrainTumor\\kagglerecipes\\data\\sample...\n",
       "1        267           0  e:\\Kaggle\\BrainTumor\\kagglerecipes\\data\\sample..."
      ]
     },
     "execution_count": null,
     "metadata": {},
     "output_type": "execute_result"
    }
   ],
   "source": [
    "train_df = pd.read_csv(DATA_PATH / 'train_labels.csv')\r\n",
    "test_df = pd.read_csv(DATA_PATH / 'sample_submission.csv')\r\n",
    "\r\n",
    "def get_path(row, path_type):\r\n",
    "    patient_id = get_patient_id(int(row.BraTS21ID))\r\n",
    "    return f'{path_type}/{patient_id}/'\r\n",
    "\r\n",
    "train_df['path'] = train_df.apply(lambda row: get_path(row, TRAIN_PATH), axis=1)\r\n",
    "test_df['path'] = test_df.apply(lambda row: get_path(row, TEST_DATA), axis=1)\r\n",
    "\r\n",
    "train_df.head(2)"
   ]
  },
  {
   "cell_type": "markdown",
   "metadata": {},
   "source": [
    "# Get DICOM metadata"
   ]
  },
  {
   "cell_type": "code",
   "execution_count": null,
   "metadata": {},
   "outputs": [],
   "source": [
    "meta_cols = ['SpecificCharacterSet','ImageType','SOPClassUID',\r\n",
    "             'SOPInstanceUID','AccessionNumber','Modality', 'SeriesDescription', \r\n",
    "             'PatientID', 'MRAcquisitionType', 'SliceThickness', \r\n",
    "             'EchoTime', 'NumberOfAverages', 'ImagingFrequency', 'ImagedNucleus', \r\n",
    "             'MagneticFieldStrength', 'SpacingBetweenSlices', \r\n",
    "             'EchoTrainLength', 'PercentSampling', 'PercentPhaseFieldOfView',\r\n",
    "             'PixelBandwidth', 'TriggerWindow', 'ReconstructionDiameter', 'AcquisitionMatrix',\r\n",
    "             'FlipAngle', 'SAR', 'PatientPosition',\r\n",
    "             'StudyInstanceUID', 'SeriesInstanceUID', 'SeriesNumber', 'InstanceNumber',\r\n",
    "             'ImagePositionPatient', 'ImageOrientationPatient', 'Laterality',\r\n",
    "             'PositionReferenceIndicator', 'SliceLocation', 'InStackPositionNumber',\r\n",
    "             'SamplesPerPixel', 'PhotometricInterpretation', 'Rows', 'Columns', 'PixelSpacing',\r\n",
    "             'BitsAllocated', 'BitsStored', 'HighBit', 'PixelRepresentation', 'WindowCenter',\r\n",
    "             'WindowWidth', 'RescaleIntercept', 'RescaleSlope', 'RescaleType']\r\n",
    "\r\n",
    "def get_all_dicom_metadata(df, meta_cols):\r\n",
    "    \"\"\"\r\n",
    "    Retrieve metadata for each BraTS21ID and return as a dataframe.\r\n",
    "    \"\"\"\r\n",
    "    meta_cols_dict = []\r\n",
    "    for i in range(len(df)):\r\n",
    "        row = df.iloc[i]\r\n",
    "        path = Path(row.path)\r\n",
    "        for scan_type in ['FLAIR', 'T1w', 'T1wCE', 'T2w']:\r\n",
    "            dicomfile = os.listdir(path / scan_type)[0]\r\n",
    "            dicom_metadata = get_dicom_metadata(path / scan_type / dicomfile, meta_cols)\r\n",
    "            dicom_metadata['scan_type'] = scan_type\r\n",
    "            dicom_metadata['id'] = row.BraTS21ID\r\n",
    "            meta_cols_dict.append(dicom_metadata)\r\n",
    "            \r\n",
    "    return pd.DataFrame(meta_cols_dict)"
   ]
  },
  {
   "cell_type": "code",
   "execution_count": null,
   "metadata": {},
   "outputs": [],
   "source": [
    "train_meta_df = get_all_dicom_metadata(train_df, meta_cols)\r\n",
    "test_meta_df = get_all_dicom_metadata(test_df, meta_cols)"
   ]
  },
  {
   "cell_type": "markdown",
   "metadata": {},
   "source": [
    "# Do voxel manipulation for one id"
   ]
  },
  {
   "cell_type": "code",
   "execution_count": null,
   "metadata": {},
   "outputs": [],
   "source": [
    "folder = os.listdir(TRAIN_PATH)[0]\r\n",
    "\r\n",
    "connect_voxel = VoxelData(os.path.join(TRAIN_PATH, folder, 'T1w'))\r\n",
    "flair = connect_voxel.get_voxel_data(os.path.join(TRAIN_PATH, folder, 'FLAIR'))\r\n",
    "t1wce = connect_voxel.get_voxel_data(os.path.join(TRAIN_PATH, folder, 'T1wCE'))\r\n",
    "t2 = connect_voxel.get_voxel_data(os.path.join(TRAIN_PATH, folder, 'T2w'))"
   ]
  },
  {
   "cell_type": "code",
   "execution_count": null,
   "metadata": {},
   "outputs": [],
   "source": []
  }
 ],
 "metadata": {
  "kernelspec": {
   "display_name": "Python 3.7.3 64-bit ('tf-gpu': conda)",
   "name": "python3"
  }
 },
 "nbformat": 4,
 "nbformat_minor": 2
}
