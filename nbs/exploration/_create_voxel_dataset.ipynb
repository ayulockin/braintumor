{
 "cells": [
  {
   "cell_type": "markdown",
   "metadata": {},
   "source": [
    "# Imports and Setup"
   ]
  },
  {
   "cell_type": "code",
   "execution_count": null,
   "metadata": {},
   "outputs": [],
   "source": [
    "import os\r\n",
    "import ast\r\n",
    "import wandb\r\n",
    "import numpy as np\r\n",
    "import pandas as pd\r\n",
    "from tqdm import tqdm\r\n",
    "from pathlib import Path\r\n",
    "import matplotlib.pyplot as plt\r\n",
    "\r\n",
    "# module based imports\r\n",
    "from kagglerecipes.preprocess import VoxelData\r\n",
    "from kagglerecipes.utils import *\r\n",
    "from kagglerecipes.wandb_utils import log_df_as_tables"
   ]
  },
  {
   "cell_type": "markdown",
   "metadata": {},
   "source": [
    "# Read CSV files"
   ]
  },
  {
   "cell_type": "code",
   "execution_count": null,
   "metadata": {},
   "outputs": [],
   "source": [
    "DATA_PATH = Path(os.getcwd()).parents[1] / 'data'\r\n",
    "TRAIN_PATH = Path(os.getcwd()).parents[1] / 'data/sample/train/'\r\n",
    "TEST_DATA = Path(os.getcwd()).parents[1] / 'data/sample/test/'"
   ]
  },
  {
   "cell_type": "code",
   "execution_count": null,
   "metadata": {},
   "outputs": [
    {
     "data": {
      "text/html": [
       "<div>\n",
       "<style scoped>\n",
       "    .dataframe tbody tr th:only-of-type {\n",
       "        vertical-align: middle;\n",
       "    }\n",
       "\n",
       "    .dataframe tbody tr th {\n",
       "        vertical-align: top;\n",
       "    }\n",
       "\n",
       "    .dataframe thead th {\n",
       "        text-align: right;\n",
       "    }\n",
       "</style>\n",
       "<table border=\"1\" class=\"dataframe\">\n",
       "  <thead>\n",
       "    <tr style=\"text-align: right;\">\n",
       "      <th></th>\n",
       "      <th>BraTS21ID</th>\n",
       "      <th>MGMT_value</th>\n",
       "      <th>path</th>\n",
       "    </tr>\n",
       "  </thead>\n",
       "  <tbody>\n",
       "    <tr>\n",
       "      <th>0</th>\n",
       "      <td>165</td>\n",
       "      <td>0</td>\n",
       "      <td>e:\\Kaggle\\BrainTumor\\kagglerecipes\\data\\sample...</td>\n",
       "    </tr>\n",
       "    <tr>\n",
       "      <th>1</th>\n",
       "      <td>267</td>\n",
       "      <td>0</td>\n",
       "      <td>e:\\Kaggle\\BrainTumor\\kagglerecipes\\data\\sample...</td>\n",
       "    </tr>\n",
       "  </tbody>\n",
       "</table>\n",
       "</div>"
      ],
      "text/plain": [
       "   BraTS21ID  MGMT_value                                               path\n",
       "0        165           0  e:\\Kaggle\\BrainTumor\\kagglerecipes\\data\\sample...\n",
       "1        267           0  e:\\Kaggle\\BrainTumor\\kagglerecipes\\data\\sample..."
      ]
     },
     "execution_count": null,
     "metadata": {},
     "output_type": "execute_result"
    }
   ],
   "source": [
    "train_df = pd.read_csv(DATA_PATH / 'train_labels.csv')\r\n",
    "test_df = pd.read_csv(DATA_PATH / 'sample_submission.csv')\r\n",
    "\r\n",
    "train_df['path'] = train_df.apply(lambda row: get_patient_BraTS21ID_path(row, TRAIN_PATH), axis=1)\r\n",
    "test_df['path'] = test_df.apply(lambda row: get_patient_BraTS21ID_path(row, TEST_DATA), axis=1)\r\n",
    "\r\n",
    "train_df.head(2)"
   ]
  },
  {
   "cell_type": "markdown",
   "metadata": {},
   "source": [
    "# Get DICOM metadata"
   ]
  },
  {
   "cell_type": "code",
   "execution_count": null,
   "metadata": {},
   "outputs": [],
   "source": [
    "meta_cols = ['SpecificCharacterSet','ImageType','SOPClassUID',\r\n",
    "             'SOPInstanceUID','AccessionNumber','Modality', 'SeriesDescription', \r\n",
    "             'PatientID', 'MRAcquisitionType', 'SliceThickness', \r\n",
    "             'EchoTime', 'NumberOfAverages', 'ImagingFrequency', 'ImagedNucleus', \r\n",
    "             'MagneticFieldStrength', 'SpacingBetweenSlices', \r\n",
    "             'EchoTrainLength', 'PercentSampling', 'PercentPhaseFieldOfView',\r\n",
    "             'PixelBandwidth', 'TriggerWindow', 'ReconstructionDiameter', 'AcquisitionMatrix',\r\n",
    "             'FlipAngle', 'SAR', 'PatientPosition',\r\n",
    "             'StudyInstanceUID', 'SeriesInstanceUID', 'SeriesNumber', 'InstanceNumber',\r\n",
    "             'ImagePositionPatient', 'ImageOrientationPatient', 'Laterality',\r\n",
    "             'PositionReferenceIndicator', 'SliceLocation', 'InStackPositionNumber',\r\n",
    "             'SamplesPerPixel', 'PhotometricInterpretation', 'Rows', 'Columns', 'PixelSpacing',\r\n",
    "             'BitsAllocated', 'BitsStored', 'HighBit', 'PixelRepresentation', 'WindowCenter',\r\n",
    "             'WindowWidth', 'RescaleIntercept', 'RescaleSlope', 'RescaleType']"
   ]
  },
  {
   "cell_type": "code",
   "execution_count": null,
   "metadata": {},
   "outputs": [
    {
     "name": "stderr",
     "output_type": "stream",
     "text": [
      "100%|██████████| 10/10 [00:23<00:00,  2.33s/it]\n",
      "100%|██████████| 10/10 [00:21<00:00,  2.17s/it]\n"
     ]
    }
   ],
   "source": [
    "# Get DICOM metadata\r\n",
    "train_meta_df = get_all_dicom_metadata(train_df, meta_cols)\r\n",
    "test_meta_df = get_all_dicom_metadata(test_df, meta_cols)"
   ]
  },
  {
   "cell_type": "code",
   "execution_count": null,
   "metadata": {},
   "outputs": [],
   "source": [
    "# Get orienation metadata\r\n",
    "train_meta_df['Orientation'] = train_meta_df.apply(get_image_plane, axis=1)\r\n",
    "test_meta_df['Orientation'] = test_meta_df.apply(get_image_plane, axis=1)"
   ]
  },
  {
   "cell_type": "code",
   "execution_count": null,
   "metadata": {},
   "outputs": [
    {
     "data": {
      "text/html": [
       "<div>\n",
       "<style scoped>\n",
       "    .dataframe tbody tr th:only-of-type {\n",
       "        vertical-align: middle;\n",
       "    }\n",
       "\n",
       "    .dataframe tbody tr th {\n",
       "        vertical-align: top;\n",
       "    }\n",
       "\n",
       "    .dataframe thead th {\n",
       "        text-align: right;\n",
       "    }\n",
       "</style>\n",
       "<table border=\"1\" class=\"dataframe\">\n",
       "  <thead>\n",
       "    <tr style=\"text-align: right;\">\n",
       "      <th></th>\n",
       "      <th>PatientID</th>\n",
       "      <th>Orientation</th>\n",
       "      <th>SeriesDescription</th>\n",
       "      <th>count</th>\n",
       "    </tr>\n",
       "  </thead>\n",
       "  <tbody>\n",
       "    <tr>\n",
       "      <th>0</th>\n",
       "      <td>00389</td>\n",
       "      <td>axial</td>\n",
       "      <td>T1w</td>\n",
       "      <td>192</td>\n",
       "    </tr>\n",
       "    <tr>\n",
       "      <th>1</th>\n",
       "      <td>00542</td>\n",
       "      <td>axial</td>\n",
       "      <td>T1w</td>\n",
       "      <td>174</td>\n",
       "    </tr>\n",
       "    <tr>\n",
       "      <th>2</th>\n",
       "      <td>00623</td>\n",
       "      <td>axial</td>\n",
       "      <td>T1w</td>\n",
       "      <td>176</td>\n",
       "    </tr>\n",
       "  </tbody>\n",
       "</table>\n",
       "</div>"
      ],
      "text/plain": [
       "  PatientID Orientation SeriesDescription  count\n",
       "0     00389       axial               T1w    192\n",
       "1     00542       axial               T1w    174\n",
       "2     00623       axial               T1w    176"
      ]
     },
     "execution_count": null,
     "metadata": {},
     "output_type": "execute_result"
    }
   ],
   "source": [
    "train_meta_df.loc[(train_meta_df.Rows == \"256\") & \r\n",
    "                  (train_meta_df.Columns == \"256\") &\r\n",
    "                  (train_meta_df.SeriesDescription==\"T1w\")].groupby([\"PatientID\" ,'Orientation', \"SeriesDescription\"]).size().reset_index(name='count') "
   ]
  },
  {
   "cell_type": "markdown",
   "metadata": {},
   "source": [
    "# Log metadata as W&B Tables"
   ]
  },
  {
   "cell_type": "code",
   "execution_count": null,
   "metadata": {},
   "outputs": [
    {
     "name": "stderr",
     "output_type": "stream",
     "text": [
      "wandb: wandb version 0.12.1 is available!  To upgrade, please run:\n",
      "wandb:  $ pip install wandb --upgrade\n"
     ]
    },
    {
     "data": {
      "text/html": [
       "\n",
       "                Tracking run with wandb version 0.12.0<br/>\n",
       "                Syncing run <strong style=\"color:#cdcd00\">fearless-fire-21</strong> to <a href=\"https://wandb.ai\" target=\"_blank\">Weights & Biases</a> <a href=\"https://docs.wandb.com/integrations/jupyter.html\" target=\"_blank\">(Documentation)</a>.<br/>\n",
       "                Project page: <a href=\"https://wandb.ai/ayush-thakur/tests\" target=\"_blank\">https://wandb.ai/ayush-thakur/tests</a><br/>\n",
       "                Run page: <a href=\"https://wandb.ai/ayush-thakur/tests/runs/dj7k0m6u\" target=\"_blank\">https://wandb.ai/ayush-thakur/tests/runs/dj7k0m6u</a><br/>\n",
       "                Run data is saved locally in <code>e:\\Kaggle\\BrainTumor\\kagglerecipes\\nbs\\exploration\\wandb\\run-20210827_055955-dj7k0m6u</code><br/><br/>\n",
       "            "
      ],
      "text/plain": [
       "<IPython.core.display.HTML object>"
      ]
     },
     "metadata": {},
     "output_type": "display_data"
    },
    {
     "data": {
      "text/html": [
       "<br/>Waiting for W&B process to finish, PID 7888<br/>Program ended successfully."
      ],
      "text/plain": [
       "<IPython.core.display.HTML object>"
      ]
     },
     "metadata": {},
     "output_type": "display_data"
    },
    {
     "data": {
      "application/vnd.jupyter.widget-view+json": {
       "model_id": "83a4f1063ddc4c938ad87cee6e09e6d6",
       "version_major": 2,
       "version_minor": 0
      },
      "text/plain": [
       "VBox(children=(Label(value=' 5.03MB of 10.06MB uploaded (0.00MB deduped)\\r'), FloatProgress(value=0.5003454967…"
      ]
     },
     "metadata": {},
     "output_type": "display_data"
    },
    {
     "data": {
      "text/html": [
       "Find user logs for this run at: <code>e:\\Kaggle\\BrainTumor\\kagglerecipes\\nbs\\exploration\\wandb\\run-20210827_055955-dj7k0m6u\\logs\\debug.log</code>"
      ],
      "text/plain": [
       "<IPython.core.display.HTML object>"
      ]
     },
     "metadata": {},
     "output_type": "display_data"
    },
    {
     "data": {
      "text/html": [
       "Find internal logs for this run at: <code>e:\\Kaggle\\BrainTumor\\kagglerecipes\\nbs\\exploration\\wandb\\run-20210827_055955-dj7k0m6u\\logs\\debug-internal.log</code>"
      ],
      "text/plain": [
       "<IPython.core.display.HTML object>"
      ]
     },
     "metadata": {},
     "output_type": "display_data"
    },
    {
     "data": {
      "text/html": [
       "<h3>Run summary:</h3><br/><style>\n",
       "    table.wandb td:nth-child(1) { padding: 0 10px; text-align: right }\n",
       "    </style><table class=\"wandb\">\n",
       "<tr><td>_runtime</td><td>16</td></tr><tr><td>_timestamp</td><td>1630024211</td></tr><tr><td>_step</td><td>0</td></tr></table>"
      ],
      "text/plain": [
       "<IPython.core.display.HTML object>"
      ]
     },
     "metadata": {},
     "output_type": "display_data"
    },
    {
     "data": {
      "text/html": [
       "<h3>Run history:</h3><br/><style>\n",
       "    table.wandb td:nth-child(1) { padding: 0 10px; text-align: right }\n",
       "    </style><table class=\"wandb\">\n",
       "<tr><td>_runtime</td><td>▁</td></tr><tr><td>_timestamp</td><td>▁</td></tr><tr><td>_step</td><td>▁</td></tr></table><br/>"
      ],
      "text/plain": [
       "<IPython.core.display.HTML object>"
      ]
     },
     "metadata": {},
     "output_type": "display_data"
    },
    {
     "data": {
      "text/html": [
       "Synced 5 W&B file(s), 1 media file(s), 1 artifact file(s) and 0 other file(s)"
      ],
      "text/plain": [
       "<IPython.core.display.HTML object>"
      ]
     },
     "metadata": {},
     "output_type": "display_data"
    },
    {
     "data": {
      "text/html": [
       "\n",
       "                    <br/>Synced <strong style=\"color:#cdcd00\">fearless-fire-21</strong>: <a href=\"https://wandb.ai/ayush-thakur/tests/runs/dj7k0m6u\" target=\"_blank\">https://wandb.ai/ayush-thakur/tests/runs/dj7k0m6u</a><br/>\n",
       "                "
      ],
      "text/plain": [
       "<IPython.core.display.HTML object>"
      ]
     },
     "metadata": {},
     "output_type": "display_data"
    }
   ],
   "source": [
    "run = wandb.init(entity='ayush-thakur', project='tests')\r\n",
    "log_df_as_tables(run, train_meta_df, \"raw_train\")\r\n",
    "wandb.finish()"
   ]
  },
  {
   "cell_type": "markdown",
   "metadata": {},
   "source": [
    "# Create Dataset"
   ]
  },
  {
   "cell_type": "code",
   "execution_count": null,
   "metadata": {},
   "outputs": [
    {
     "name": "stderr",
     "output_type": "stream",
     "text": [
      "100%|██████████| 10/10 [01:17<00:00,  7.73s/it]\n"
     ]
    }
   ],
   "source": [
    "SAVE_PATH = Path(os.getcwd()).parents[1] / 'data/voxel_data/'\r\n",
    "os.makedirs(SAVE_PATH, exist_ok=True)\r\n",
    "\r\n",
    "# Initialize voxel manipulator\r\n",
    "connect_voxel = VoxelData(os.path.join(TRAIN_PATH / '00542', \"T1w\"))\r\n",
    "\r\n",
    "# Interate over the dataframe and resample every mri sequence according to the refrerence.\r\n",
    "for i in tqdm(range(len(train_df))):\r\n",
    "    row = train_df.loc[i]\r\n",
    "    t1w = connect_voxel.get_voxel_data(os.path.join(row.path, 'T1w'))\r\n",
    "    flair = connect_voxel.get_voxel_data(os.path.join(row.path, 'FLAIR'))\r\n",
    "    t1wce = connect_voxel.get_voxel_data(os.path.join(row.path, 'T1wCE'))\r\n",
    "    t2 = connect_voxel.get_voxel_data(os.path.join(row.path, 'T2w'))\r\n",
    "\r\n",
    "    # Save the resampled mri sequences\r\n",
    "    os.makedirs(SAVE_PATH / get_patient_id(row.BraTS21ID), exist_ok=True)\r\n",
    "    np.save(SAVE_PATH / get_patient_id(row.BraTS21ID) / 't1w.npy', t1w)\r\n",
    "    np.save(SAVE_PATH / get_patient_id(row.BraTS21ID) / 'flair.npy', flair)\r\n",
    "    np.save(SAVE_PATH / get_patient_id(row.BraTS21ID) / 't1wce.npy', t1wce)\r\n",
    "    np.save(SAVE_PATH / get_patient_id(row.BraTS21ID) / 't2.npy', t2)\r\n"
   ]
  },
  {
   "cell_type": "code",
   "execution_count": null,
   "metadata": {},
   "outputs": [],
   "source": []
  }
 ],
 "metadata": {
  "kernelspec": {
   "display_name": "Python 3.7.3 64-bit ('tf-gpu': conda)",
   "name": "python3"
  }
 },
 "nbformat": 4,
 "nbformat_minor": 4
}
